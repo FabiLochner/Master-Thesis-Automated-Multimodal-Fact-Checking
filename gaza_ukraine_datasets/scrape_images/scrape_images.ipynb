{
 "cells": [
  {
   "cell_type": "markdown",
   "metadata": {},
   "source": [
    "### Scrape Images from URL\n",
    "\n",
    "#### 1) Gaza-Israel Dataset (Date of Scraping: 27.05.2025)\n"
   ]
  },
  {
   "cell_type": "code",
   "execution_count": 42,
   "metadata": {},
   "outputs": [],
   "source": [
    "import os \n",
    "import pandas as pd \n",
    "from tqdm import tqdm \n",
    "import requests \n",
    "from requests.adapters import HTTPAdapter\n",
    "from urllib3.util.retry import Retry\n",
    "import time\n",
    "from PIL import Image \n",
    "from io import BytesIO\n",
    "import numpy as np"
   ]
  },
  {
   "cell_type": "code",
   "execution_count": 13,
   "metadata": {},
   "outputs": [
    {
     "data": {
      "text/plain": [
       "'/Users/fabilochner/Documents/Kopenhagen/MSc Social Data Science/Courses/4th semester/Master Thesis/Practical Implementation/gaza_ukraine_datasets/scrape_images'"
      ]
     },
     "execution_count": 13,
     "metadata": {},
     "output_type": "execute_result"
    }
   ],
   "source": [
    "os.getcwd()"
   ]
  },
  {
   "cell_type": "code",
   "execution_count": 16,
   "metadata": {},
   "outputs": [
    {
     "name": "stdout",
     "output_type": "stream",
     "text": [
      "100\n",
      "id                            int64\n",
      "Website                      object\n",
      "Article_URL                  object\n",
      "Headline                     object\n",
      "Claim_Date                   object\n",
      "Review_Date                  object\n",
      "Query/Keyword                object\n",
      "Label_Website                object\n",
      "Image_URL                    object\n",
      "Original_Claim_Website       object\n",
      "Original_Claim_Only          object\n",
      "Context/Label_Explanation    object\n",
      "Text_Only_Claim                bool\n",
      "Normal_Image                   bool\n",
      "AI_Generated_Image             bool\n",
      "Altered_Image                  bool\n",
      "Data_Collection_Type         object\n",
      "Label                        object\n",
      "Claim                        object\n",
      "dtype: object\n"
     ]
    },
    {
     "data": {
      "text/html": [
       "<div>\n",
       "<style scoped>\n",
       "    .dataframe tbody tr th:only-of-type {\n",
       "        vertical-align: middle;\n",
       "    }\n",
       "\n",
       "    .dataframe tbody tr th {\n",
       "        vertical-align: top;\n",
       "    }\n",
       "\n",
       "    .dataframe thead th {\n",
       "        text-align: right;\n",
       "    }\n",
       "</style>\n",
       "<table border=\"1\" class=\"dataframe\">\n",
       "  <thead>\n",
       "    <tr style=\"text-align: right;\">\n",
       "      <th></th>\n",
       "      <th>id</th>\n",
       "      <th>Website</th>\n",
       "      <th>Article_URL</th>\n",
       "      <th>Headline</th>\n",
       "      <th>Claim_Date</th>\n",
       "      <th>Review_Date</th>\n",
       "      <th>Query/Keyword</th>\n",
       "      <th>Label_Website</th>\n",
       "      <th>Image_URL</th>\n",
       "      <th>Original_Claim_Website</th>\n",
       "      <th>Original_Claim_Only</th>\n",
       "      <th>Context/Label_Explanation</th>\n",
       "      <th>Text_Only_Claim</th>\n",
       "      <th>Normal_Image</th>\n",
       "      <th>AI_Generated_Image</th>\n",
       "      <th>Altered_Image</th>\n",
       "      <th>Data_Collection_Type</th>\n",
       "      <th>Label</th>\n",
       "      <th>Claim</th>\n",
       "    </tr>\n",
       "  </thead>\n",
       "  <tbody>\n",
       "    <tr>\n",
       "      <th>0</th>\n",
       "      <td>0</td>\n",
       "      <td>AFP Factcheck</td>\n",
       "      <td>https://factcheck.afp.com/doc.afp.com.42JE3T2</td>\n",
       "      <td>False claims about US general being killed in ...</td>\n",
       "      <td>2025-04-06 00:00:00</td>\n",
       "      <td>2025-04-17 00:00:00</td>\n",
       "      <td>Israeli-Palestinian conflict</td>\n",
       "      <td>FALSE</td>\n",
       "      <td>https://pbs.twimg.com/media/Gn4wjgBXoAALax1?fo...</td>\n",
       "      <td>\"BREAKING: Reports confirm the death of Genera...</td>\n",
       "      <td>\"BREAKING: Reports confirm the death of Genera...</td>\n",
       "      <td>A reverse image search reveals the photograph ...</td>\n",
       "      <td>False</td>\n",
       "      <td>True</td>\n",
       "      <td>False</td>\n",
       "      <td>False</td>\n",
       "      <td>Manual</td>\n",
       "      <td>FALSE</td>\n",
       "      <td>This image shows General John Pagri, Commander...</td>\n",
       "    </tr>\n",
       "    <tr>\n",
       "      <th>1</th>\n",
       "      <td>1</td>\n",
       "      <td>AFP Factcheck</td>\n",
       "      <td>https://factcheck.afp.com/doc.afp.com.39432WD</td>\n",
       "      <td>Pictures show Gaza in ruins, not Myanmar quake...</td>\n",
       "      <td>2025-03-29 00:00:00</td>\n",
       "      <td>2025-04-17 00:00:00</td>\n",
       "      <td>Israeli-Palestinian conflict</td>\n",
       "      <td>FALSE</td>\n",
       "      <td>https://web.archive.org/web/20250402070342im_/...</td>\n",
       "      <td>\"A 7.9-magnitude earthquake in Myanmar, devast...</td>\n",
       "      <td>\"A 7.9-magnitude earthquake in Myanmar, devast...</td>\n",
       "      <td>However, a reverse image search for the first ...</td>\n",
       "      <td>False</td>\n",
       "      <td>True</td>\n",
       "      <td>False</td>\n",
       "      <td>False</td>\n",
       "      <td>Manual</td>\n",
       "      <td>FALSE</td>\n",
       "      <td>This image shows the ruins after a 7.9-magnitu...</td>\n",
       "    </tr>\n",
       "    <tr>\n",
       "      <th>2</th>\n",
       "      <td>2</td>\n",
       "      <td>AFP Factcheck</td>\n",
       "      <td>https://factcheck.afp.com/doc.afp.com.37W26WD</td>\n",
       "      <td>Image of 'Gazan mother with son's bones' is ma...</td>\n",
       "      <td>2025-03-24 00:00:00</td>\n",
       "      <td>2025-03-27 00:00:00</td>\n",
       "      <td>Israeli-Palestinian conflict</td>\n",
       "      <td>FALSE</td>\n",
       "      <td>https://scontent-hou1-1.xx.fbcdn.net/v/t39.308...</td>\n",
       "      <td>\"A mother holds the bones of her son in Gaza. ...</td>\n",
       "      <td>\"A mother holds the bones of her son in Gaza. ...</td>\n",
       "      <td>A keyword search found a wider-angle version o...</td>\n",
       "      <td>False</td>\n",
       "      <td>False</td>\n",
       "      <td>True</td>\n",
       "      <td>False</td>\n",
       "      <td>Manual</td>\n",
       "      <td>FALSE</td>\n",
       "      <td>This is an authentic image of a mother holding...</td>\n",
       "    </tr>\n",
       "    <tr>\n",
       "      <th>3</th>\n",
       "      <td>3</td>\n",
       "      <td>AFP Factcheck</td>\n",
       "      <td>https://factcheck.afp.com/doc.afp.com.36XY2FV</td>\n",
       "      <td>Old image misrepresented as 'Israeli settlers'...</td>\n",
       "      <td>2025-02-16 00:00:00</td>\n",
       "      <td>2025-02-19 00:00:00</td>\n",
       "      <td>Israeli-Palestinian conflict</td>\n",
       "      <td>FALSE</td>\n",
       "      <td>https://pbs.twimg.com/media/Gj5tbXiaQAAoG1z?fo...</td>\n",
       "      <td>\"Israeli media reports there are Jews who have...</td>\n",
       "      <td>\"Israeli media reports there are Jews who have...</td>\n",
       "      <td>A reverse image search via Google traced the v...</td>\n",
       "      <td>False</td>\n",
       "      <td>True</td>\n",
       "      <td>False</td>\n",
       "      <td>False</td>\n",
       "      <td>Manual</td>\n",
       "      <td>FALSE</td>\n",
       "      <td>This image shows Israelis who have stopped fig...</td>\n",
       "    </tr>\n",
       "    <tr>\n",
       "      <th>4</th>\n",
       "      <td>4</td>\n",
       "      <td>AFP Factcheck</td>\n",
       "      <td>https://factcheck.afp.com/doc.afp.com.36RF6BZ</td>\n",
       "      <td>Picture shows Israel's 2018 Gaza attack, not a...</td>\n",
       "      <td>2024-12-22 00:00:00</td>\n",
       "      <td>2024-12-26 00:00:00</td>\n",
       "      <td>Israeli-Palestinian conflict</td>\n",
       "      <td>FALSE</td>\n",
       "      <td>https://media.gettyimages.com/id/1060718622/de...</td>\n",
       "      <td>\"Americans bombarded Yemen in reprisal after Y...</td>\n",
       "      <td>\"Americans bombarded Yemen in reprisal after Y...</td>\n",
       "      <td>But a reverse image search on Google found the...</td>\n",
       "      <td>False</td>\n",
       "      <td>True</td>\n",
       "      <td>False</td>\n",
       "      <td>False</td>\n",
       "      <td>Manual</td>\n",
       "      <td>FALSE</td>\n",
       "      <td>This image shows the U.S. bombarding Yemen on ...</td>\n",
       "    </tr>\n",
       "  </tbody>\n",
       "</table>\n",
       "</div>"
      ],
      "text/plain": [
       "   id        Website                                    Article_URL  \\\n",
       "0   0  AFP Factcheck  https://factcheck.afp.com/doc.afp.com.42JE3T2   \n",
       "1   1  AFP Factcheck  https://factcheck.afp.com/doc.afp.com.39432WD   \n",
       "2   2  AFP Factcheck  https://factcheck.afp.com/doc.afp.com.37W26WD   \n",
       "3   3  AFP Factcheck  https://factcheck.afp.com/doc.afp.com.36XY2FV   \n",
       "4   4  AFP Factcheck  https://factcheck.afp.com/doc.afp.com.36RF6BZ   \n",
       "\n",
       "                                            Headline           Claim_Date  \\\n",
       "0  False claims about US general being killed in ...  2025-04-06 00:00:00   \n",
       "1  Pictures show Gaza in ruins, not Myanmar quake...  2025-03-29 00:00:00   \n",
       "2  Image of 'Gazan mother with son's bones' is ma...  2025-03-24 00:00:00   \n",
       "3  Old image misrepresented as 'Israeli settlers'...  2025-02-16 00:00:00   \n",
       "4  Picture shows Israel's 2018 Gaza attack, not a...  2024-12-22 00:00:00   \n",
       "\n",
       "           Review_Date                 Query/Keyword Label_Website  \\\n",
       "0  2025-04-17 00:00:00  Israeli-Palestinian conflict         FALSE   \n",
       "1  2025-04-17 00:00:00  Israeli-Palestinian conflict         FALSE   \n",
       "2  2025-03-27 00:00:00  Israeli-Palestinian conflict         FALSE   \n",
       "3  2025-02-19 00:00:00  Israeli-Palestinian conflict         FALSE   \n",
       "4  2024-12-26 00:00:00  Israeli-Palestinian conflict         FALSE   \n",
       "\n",
       "                                           Image_URL  \\\n",
       "0  https://pbs.twimg.com/media/Gn4wjgBXoAALax1?fo...   \n",
       "1  https://web.archive.org/web/20250402070342im_/...   \n",
       "2  https://scontent-hou1-1.xx.fbcdn.net/v/t39.308...   \n",
       "3  https://pbs.twimg.com/media/Gj5tbXiaQAAoG1z?fo...   \n",
       "4  https://media.gettyimages.com/id/1060718622/de...   \n",
       "\n",
       "                              Original_Claim_Website  \\\n",
       "0  \"BREAKING: Reports confirm the death of Genera...   \n",
       "1  \"A 7.9-magnitude earthquake in Myanmar, devast...   \n",
       "2  \"A mother holds the bones of her son in Gaza. ...   \n",
       "3  \"Israeli media reports there are Jews who have...   \n",
       "4  \"Americans bombarded Yemen in reprisal after Y...   \n",
       "\n",
       "                                 Original_Claim_Only  \\\n",
       "0  \"BREAKING: Reports confirm the death of Genera...   \n",
       "1  \"A 7.9-magnitude earthquake in Myanmar, devast...   \n",
       "2  \"A mother holds the bones of her son in Gaza. ...   \n",
       "3  \"Israeli media reports there are Jews who have...   \n",
       "4  \"Americans bombarded Yemen in reprisal after Y...   \n",
       "\n",
       "                           Context/Label_Explanation  Text_Only_Claim  \\\n",
       "0  A reverse image search reveals the photograph ...            False   \n",
       "1  However, a reverse image search for the first ...            False   \n",
       "2  A keyword search found a wider-angle version o...            False   \n",
       "3  A reverse image search via Google traced the v...            False   \n",
       "4  But a reverse image search on Google found the...            False   \n",
       "\n",
       "   Normal_Image  AI_Generated_Image  Altered_Image Data_Collection_Type  \\\n",
       "0          True               False          False               Manual   \n",
       "1          True               False          False               Manual   \n",
       "2         False                True          False               Manual   \n",
       "3          True               False          False               Manual   \n",
       "4          True               False          False               Manual   \n",
       "\n",
       "   Label                                              Claim  \n",
       "0  FALSE  This image shows General John Pagri, Commander...  \n",
       "1  FALSE  This image shows the ruins after a 7.9-magnitu...  \n",
       "2  FALSE  This is an authentic image of a mother holding...  \n",
       "3  FALSE  This image shows Israelis who have stopped fig...  \n",
       "4  FALSE  This image shows the U.S. bombarding Yemen on ...  "
      ]
     },
     "execution_count": 16,
     "metadata": {},
     "output_type": "execute_result"
    }
   ],
   "source": [
    "## import Gaza-Israel dataset (after claim reformulation) (Checked URL's validity: 07.05.2025)\n",
    "\n",
    "df_gaza_israel = pd.read_csv(\"../gaza_israel/Combined_dataset/gaza_israel_dataset_combined_010724_300425_after_claim_reformulation.csv\",sep=';', header=0, index_col = 0)\n",
    "print(len(df_gaza_israel))\n",
    "print(df_gaza_israel.dtypes)\n",
    "df_gaza_israel.head()"
   ]
  },
  {
   "cell_type": "code",
   "execution_count": 17,
   "metadata": {},
   "outputs": [
    {
     "name": "stdout",
     "output_type": "stream",
     "text": [
      "Label\n",
      "FALSE         59\n",
      "Misleading    31\n",
      "TRUE           6\n",
      "NEI            4\n",
      "Name: count, dtype: int64\n",
      "Label\n",
      "False         59\n",
      "Misleading    31\n",
      "True           6\n",
      "NEI            4\n",
      "Name: count, dtype: int64\n"
     ]
    }
   ],
   "source": [
    "# check if \"Label\" is in big letters\n",
    "print(df_gaza_israel[\"Label\"].value_counts() )\n",
    "\n",
    "## Rename \"FALSE\" into \"False\" and \"TRUE\" into \"True\" \n",
    "\n",
    "df_gaza_israel[\"Label\"] = df_gaza_israel[\"Label\"].replace({'FALSE': 'False', 'TRUE': 'True'})\n",
    "\n",
    "## Check label letters again\n",
    "\n",
    "print(df_gaza_israel[\"Label\"].value_counts()) ##worked\n",
    "\n",
    "\n"
   ]
  },
  {
   "cell_type": "code",
   "execution_count": 9,
   "metadata": {},
   "outputs": [
    {
     "name": "stdout",
     "output_type": "stream",
     "text": [
      "Amount of Claims with Images: 65\n",
      "Amount of Claims without Images: 35\n",
      "\n",
      " Text_Only_Claim\n",
      "False    65\n",
      "True     35\n",
      "Name: count, dtype: int64\n",
      "\n",
      " Normal_Image\n",
      "False    51\n",
      "True     49\n",
      "Name: count, dtype: int64\n",
      "\n",
      " AI_Generated_Image\n",
      "False    91\n",
      "True      9\n",
      "Name: count, dtype: int64\n",
      "\n",
      " Altered_Image\n",
      "False    93\n",
      "True      7\n",
      "Name: count, dtype: int64\n"
     ]
    }
   ],
   "source": [
    "# How many claims with images? Amount of images and image_URLs should be the same\n",
    "\n",
    "## Check 1: Image_URL column \n",
    "\n",
    "image_url_non_nan_count = df_gaza_israel[\"Image_URL\"].notna().sum()\n",
    "print(f\"Amount of Claims with Images: {image_url_non_nan_count}\")\n",
    "\n",
    "\n",
    "image_url_nan_count = df_gaza_israel[\"Image_URL\"].isna().sum()\n",
    "print(f\"Amount of Claims without Images: {image_url_nan_count}\")\n",
    "\n",
    "\n",
    "## Check 2: Text_Only_Claim column\n",
    "\n",
    "print(\"\\n\", df_gaza_israel[\"Text_Only_Claim\"].value_counts())\n",
    "\n",
    "## Check 3: Image columns \n",
    "\n",
    "print(\"\\n\",df_gaza_israel[\"Normal_Image\"].value_counts())\n",
    "print(\"\\n\",df_gaza_israel[\"AI_Generated_Image\"].value_counts())\n",
    "print(\"\\n\",df_gaza_israel[\"Altered_Image\"].value_counts())\n",
    "\n",
    "\n",
    "\n"
   ]
  },
  {
   "cell_type": "markdown",
   "metadata": {},
   "source": [
    "Maybe just scrape the image in one picture format (e.g., jpg):\n",
    "\n",
    "- Would be easier to store the images (would not require one folder for each image, but all images would be stored in one folder)\n",
    "- VERITE also just uses one format (jpg)\n",
    "- MOCHEG uses different formats (jpg, jpeg, png), but also only one format per image "
   ]
  },
  {
   "cell_type": "code",
   "execution_count": 55,
   "metadata": {},
   "outputs": [],
   "source": [
    "def save_image_jpg_format(url, base_folder, topic, image_id):\n",
    "\n",
    "    \"\"\" \n",
    "    \n",
    "    This function downloads an image from a URL and saves it in one format (jpg) - the same that was used in the VERITE benchmark and worked in DEFAME Github repo.\n",
    "    \n",
    "\n",
    "    Args:\n",
    "\n",
    "        url: The image URL to download\n",
    "        base_folder: The base folder where all images are stored (\"images\")\n",
    "        topic: The topic folder (\"gaza_israel\" or \"ukraine_russia\")\n",
    "        image_id: The ID of the image from the respective dataset\n",
    "\n",
    "\n",
    "    Returns:\n",
    "        \n",
    "        dict: Paths to the saved images or None if failed\n",
    "    \n",
    "    \"\"\"\n",
    "\n",
    "    # Generate the folder path with new structure \n",
    "    topic_folder = os.path.join(base_folder, topic) #gaza or ukraine\n",
    "    \n",
    "\n",
    "    # Create folders\n",
    "    for folder in [base_folder, topic_folder]:\n",
    "        if not os.path.exists(folder):\n",
    "            os.makedirs(folder)\n",
    "\n",
    "    # Create filename with image_id \n",
    "    filename_base = f\"{image_id}\"\n",
    "    \n",
    "\n",
    "    # Initialize the file paths dictionary \n",
    "    file_paths = {\n",
    "    \"jpg\": os.path.join(topic_folder, f\"{filename_base}.jpg\"),\n",
    "    }\n",
    "\n",
    "    # Check if all files already exist (to avoid re-downloading)\n",
    "    if all(os.path.exists(path) for path in file_paths.values()):\n",
    "        print(f\"Image {filename_base} already exists in all formats. Skipping.\")\n",
    "        return file_paths \n",
    "    \n",
    "    \n",
    "    # Create a session/using the requests retry function to deal with connection errors\n",
    "\n",
    "    ## Create a session\n",
    "    session = requests.Session()\n",
    "\n",
    "    ## Define a retry strategy\n",
    "    retry_strategy = Retry(\n",
    "        total = 5, \n",
    "        backoff_factor = 1, \n",
    "        status_forcelist=[429, 500, 502, 503, 504], \n",
    "        method_whitelist= [\"HEAD\", \"GET\", \"OPTIONS\"]\n",
    "    )\n",
    "\n",
    "    ## Mount the retry strategy to the session\n",
    "    adapter = HTTPAdapter(max_retries=retry_strategy)\n",
    "    session.mount(\"http://\", adapter)\n",
    "    session.mount(\"https://\", adapter)\n",
    "\n",
    "\n",
    "\n",
    "    # Download the image\n",
    "    \n",
    "    try:\n",
    "\n",
    "        response = session.get(url, verify=False, headers={\"User-Agent\":\"Mozilla/5.0\"}, timeout=80) #added headers to handle error messages \n",
    "\n",
    "        if response.status_code == 200:\n",
    "            # Open the image\n",
    "            img = Image.open(BytesIO(response.content))\n",
    "\n",
    "            width, height = img.size \n",
    "\n",
    "            # Resize large images\n",
    "            if 2400 > width > 1200 or 2400 > height > 1200:\n",
    "                img = img.resize((width//2, height//2))\n",
    "\n",
    "            if width > 2400 or height > 2400:\n",
    "                img = img.resize((width//4, height//4))\n",
    "\n",
    "            # Convert to RGB if needed \n",
    "            if not img.mode == \"RBB\":\n",
    "                img = img.convert(\"RGB\")\n",
    "\n",
    "            # Save each image in the jpg format\n",
    "            img.save(file_paths['jpg'], format = \"JPEG\")\n",
    "\n",
    "\n",
    "            print(f\"Successfully saved {filename_base} in jpg format.\")\n",
    "            return file_paths\n",
    "        \n",
    "        else:\n",
    "            print(f\"Failed to download image: {url}, status code: {response.status_code}\")\n",
    "            return None \n",
    "        \n",
    "    except Exception as e:\n",
    "        print(f\"Error processing {url}: {str(e)}\")\n",
    "        return None \n",
    "\n",
    "\n",
    "    \n",
    "\n",
    "    \n",
    "def scrape_images(df, base_folder, topic):\n",
    "\n",
    "    \"\"\" \n",
    "    Scrape the images from the image URL provided in a dataframe and update the dataframe with image paths\n",
    "\n",
    "    Args:\n",
    "        df: Pandas DataFrame with image URLs\n",
    "        base_folder: Base folder to save the images to \n",
    "        topic: Topic folder (\"gaza_israel\" or \"ukraine_russia\")\n",
    "\n",
    "    Returns:\n",
    "        Updated DataFrame with image path columns\n",
    "    \n",
    "    \"\"\"\n",
    "\n",
    "    # Create a copy of df to avoid modifying the original df \n",
    "    df_updated = df.copy()\n",
    "\n",
    "    # Add columns to df with the image path \n",
    "    df_updated[\"Image_Path\"] = None\n",
    "\n",
    "\n",
    "    # Count how many rows have image URLs\n",
    "    total_with_urls = df_updated[\"Image_URL\"].notna().sum()\n",
    "    print(f\"Found {total_with_urls} claims with iamge URLs out of {len(df_updated)} claims\")\n",
    "\n",
    "    # Create a list of rows with image URLs\n",
    "    rows_with_urls = df_updated[df_updated[\"Image_URL\"].notna()].index\n",
    "\n",
    "    # Scrape images \n",
    "    for idx in tqdm(rows_with_urls, desc=f\"Scraping {topic} images\"):\n",
    "        row = df_updated.loc[idx]\n",
    "        image_id = row[\"id\"] #track image id\n",
    "        url = row[\"Image_URL\"] # use column with image url\n",
    "\n",
    "        \n",
    "\n",
    "\n",
    "        if pd.notna(url) and url:\n",
    "            # Download and save the images\n",
    "            file_paths = save_image_jpg_format(url, base_folder, topic, image_id)\n",
    "            # Add a time sleep here to avoid connection errors\n",
    "            time.sleep(5)\n",
    "\n",
    "            if file_paths:\n",
    "                # Update dataframe with file path\n",
    "                df_updated.at[idx, \"Image_Path\"] = file_paths[\"jpg\"]\n",
    "                \n",
    "\n",
    "    return df_updated \n",
    "    \n"
   ]
  },
  {
   "cell_type": "markdown",
   "metadata": {},
   "source": [
    "- Source for parts of the scraping code: https://github.com/stevejpapad/image-text-verification/blob/master/prepare_datasets.py"
   ]
  },
  {
   "cell_type": "code",
   "execution_count": 15,
   "metadata": {},
   "outputs": [
    {
     "data": {
      "text/html": [
       "<div>\n",
       "<style scoped>\n",
       "    .dataframe tbody tr th:only-of-type {\n",
       "        vertical-align: middle;\n",
       "    }\n",
       "\n",
       "    .dataframe tbody tr th {\n",
       "        vertical-align: top;\n",
       "    }\n",
       "\n",
       "    .dataframe thead th {\n",
       "        text-align: right;\n",
       "    }\n",
       "</style>\n",
       "<table border=\"1\" class=\"dataframe\">\n",
       "  <thead>\n",
       "    <tr style=\"text-align: right;\">\n",
       "      <th></th>\n",
       "      <th>id</th>\n",
       "      <th>Website</th>\n",
       "      <th>Article_URL</th>\n",
       "      <th>Headline</th>\n",
       "      <th>Claim_Date</th>\n",
       "      <th>Review_Date</th>\n",
       "      <th>Query/Keyword</th>\n",
       "      <th>Label_Website</th>\n",
       "      <th>Image_URL</th>\n",
       "      <th>Original_Claim_Website</th>\n",
       "      <th>Original_Claim_Only</th>\n",
       "      <th>Context/Label_Explanation</th>\n",
       "      <th>Text_Only_Claim</th>\n",
       "      <th>Normal_Image</th>\n",
       "      <th>AI_Generated_Image</th>\n",
       "      <th>Altered_Image</th>\n",
       "      <th>Data_Collection_Type</th>\n",
       "      <th>Label</th>\n",
       "      <th>Claim</th>\n",
       "    </tr>\n",
       "  </thead>\n",
       "  <tbody>\n",
       "    <tr>\n",
       "      <th>0</th>\n",
       "      <td>0</td>\n",
       "      <td>AFP Factcheck</td>\n",
       "      <td>https://factcheck.afp.com/doc.afp.com.42JE3T2</td>\n",
       "      <td>False claims about US general being killed in ...</td>\n",
       "      <td>2025-04-06 0:00:00</td>\n",
       "      <td>2025-04-17 0:00:00</td>\n",
       "      <td>Israeli-Palestinian conflict</td>\n",
       "      <td>FALSE</td>\n",
       "      <td>https://pbs.twimg.com/media/Gn4wjgBXoAALax1?fo...</td>\n",
       "      <td>\"BREAKING: Reports confirm the death of Genera...</td>\n",
       "      <td>\"BREAKING: Reports confirm the death of Genera...</td>\n",
       "      <td>A reverse image search reveals the photograph ...</td>\n",
       "      <td>False</td>\n",
       "      <td>True</td>\n",
       "      <td>False</td>\n",
       "      <td>False</td>\n",
       "      <td>Manual</td>\n",
       "      <td>False</td>\n",
       "      <td>This image shows General John Pagri, Commander...</td>\n",
       "    </tr>\n",
       "    <tr>\n",
       "      <th>1</th>\n",
       "      <td>1</td>\n",
       "      <td>AFP Factcheck</td>\n",
       "      <td>https://factcheck.afp.com/doc.afp.com.39432WD</td>\n",
       "      <td>Pictures show Gaza in ruins, not Myanmar quake...</td>\n",
       "      <td>2025-03-29 0:00:00</td>\n",
       "      <td>2025-04-17 0:00:00</td>\n",
       "      <td>Israeli-Palestinian conflict</td>\n",
       "      <td>FALSE</td>\n",
       "      <td>https://web.archive.org/web/20250402070342im_/...</td>\n",
       "      <td>\"A 7.9-magnitude earthquake in Myanmar, devast...</td>\n",
       "      <td>\"A 7.9-magnitude earthquake in Myanmar, devast...</td>\n",
       "      <td>However, a reverse image search for the first ...</td>\n",
       "      <td>False</td>\n",
       "      <td>True</td>\n",
       "      <td>False</td>\n",
       "      <td>False</td>\n",
       "      <td>Manual</td>\n",
       "      <td>False</td>\n",
       "      <td>This image shows the ruins after a 7.9-magnitu...</td>\n",
       "    </tr>\n",
       "    <tr>\n",
       "      <th>2</th>\n",
       "      <td>2</td>\n",
       "      <td>AFP Factcheck</td>\n",
       "      <td>https://factcheck.afp.com/doc.afp.com.37W26WD</td>\n",
       "      <td>Image of 'Gazan mother with son's bones' is ma...</td>\n",
       "      <td>2025-03-24 0:00:00</td>\n",
       "      <td>2025-03-27 0:00:00</td>\n",
       "      <td>Israeli-Palestinian conflict</td>\n",
       "      <td>FALSE</td>\n",
       "      <td>https://web.archive.org/web/20250527092039/htt...</td>\n",
       "      <td>\"A mother holds the bones of her son in Gaza. ...</td>\n",
       "      <td>\"A mother holds the bones of her son in Gaza. ...</td>\n",
       "      <td>A keyword search found a wider-angle version o...</td>\n",
       "      <td>False</td>\n",
       "      <td>False</td>\n",
       "      <td>True</td>\n",
       "      <td>False</td>\n",
       "      <td>Manual</td>\n",
       "      <td>False</td>\n",
       "      <td>This is an authentic image of a mother holding...</td>\n",
       "    </tr>\n",
       "    <tr>\n",
       "      <th>3</th>\n",
       "      <td>3</td>\n",
       "      <td>AFP Factcheck</td>\n",
       "      <td>https://factcheck.afp.com/doc.afp.com.36XY2FV</td>\n",
       "      <td>Old image misrepresented as 'Israeli settlers'...</td>\n",
       "      <td>2025-02-16 0:00:00</td>\n",
       "      <td>2025-02-19 0:00:00</td>\n",
       "      <td>Israeli-Palestinian conflict</td>\n",
       "      <td>FALSE</td>\n",
       "      <td>https://pbs.twimg.com/media/Gj5tbXiaQAAoG1z?fo...</td>\n",
       "      <td>\"Israeli media reports there are Jews who have...</td>\n",
       "      <td>\"Israeli media reports there are Jews who have...</td>\n",
       "      <td>A reverse image search via Google traced the v...</td>\n",
       "      <td>False</td>\n",
       "      <td>True</td>\n",
       "      <td>False</td>\n",
       "      <td>False</td>\n",
       "      <td>Manual</td>\n",
       "      <td>False</td>\n",
       "      <td>This image shows Israelis who have stopped fig...</td>\n",
       "    </tr>\n",
       "    <tr>\n",
       "      <th>4</th>\n",
       "      <td>4</td>\n",
       "      <td>AFP Factcheck</td>\n",
       "      <td>https://factcheck.afp.com/doc.afp.com.36RF6BZ</td>\n",
       "      <td>Picture shows Israel's 2018 Gaza attack, not a...</td>\n",
       "      <td>2024-12-22 0:00:00</td>\n",
       "      <td>2024-12-26 0:00:00</td>\n",
       "      <td>Israeli-Palestinian conflict</td>\n",
       "      <td>FALSE</td>\n",
       "      <td>https://media.gettyimages.com/id/1060718622/de...</td>\n",
       "      <td>\"Americans bombarded Yemen in reprisal after Y...</td>\n",
       "      <td>\"Americans bombarded Yemen in reprisal after Y...</td>\n",
       "      <td>But a reverse image search on Google found the...</td>\n",
       "      <td>False</td>\n",
       "      <td>True</td>\n",
       "      <td>False</td>\n",
       "      <td>False</td>\n",
       "      <td>Manual</td>\n",
       "      <td>False</td>\n",
       "      <td>This image shows the U.S. bombarding Yemen on ...</td>\n",
       "    </tr>\n",
       "  </tbody>\n",
       "</table>\n",
       "</div>"
      ],
      "text/plain": [
       "   id        Website                                    Article_URL  \\\n",
       "0   0  AFP Factcheck  https://factcheck.afp.com/doc.afp.com.42JE3T2   \n",
       "1   1  AFP Factcheck  https://factcheck.afp.com/doc.afp.com.39432WD   \n",
       "2   2  AFP Factcheck  https://factcheck.afp.com/doc.afp.com.37W26WD   \n",
       "3   3  AFP Factcheck  https://factcheck.afp.com/doc.afp.com.36XY2FV   \n",
       "4   4  AFP Factcheck  https://factcheck.afp.com/doc.afp.com.36RF6BZ   \n",
       "\n",
       "                                            Headline          Claim_Date  \\\n",
       "0  False claims about US general being killed in ...  2025-04-06 0:00:00   \n",
       "1  Pictures show Gaza in ruins, not Myanmar quake...  2025-03-29 0:00:00   \n",
       "2  Image of 'Gazan mother with son's bones' is ma...  2025-03-24 0:00:00   \n",
       "3  Old image misrepresented as 'Israeli settlers'...  2025-02-16 0:00:00   \n",
       "4  Picture shows Israel's 2018 Gaza attack, not a...  2024-12-22 0:00:00   \n",
       "\n",
       "          Review_Date                 Query/Keyword Label_Website  \\\n",
       "0  2025-04-17 0:00:00  Israeli-Palestinian conflict         FALSE   \n",
       "1  2025-04-17 0:00:00  Israeli-Palestinian conflict         FALSE   \n",
       "2  2025-03-27 0:00:00  Israeli-Palestinian conflict         FALSE   \n",
       "3  2025-02-19 0:00:00  Israeli-Palestinian conflict         FALSE   \n",
       "4  2024-12-26 0:00:00  Israeli-Palestinian conflict         FALSE   \n",
       "\n",
       "                                           Image_URL  \\\n",
       "0  https://pbs.twimg.com/media/Gn4wjgBXoAALax1?fo...   \n",
       "1  https://web.archive.org/web/20250402070342im_/...   \n",
       "2  https://web.archive.org/web/20250527092039/htt...   \n",
       "3  https://pbs.twimg.com/media/Gj5tbXiaQAAoG1z?fo...   \n",
       "4  https://media.gettyimages.com/id/1060718622/de...   \n",
       "\n",
       "                              Original_Claim_Website  \\\n",
       "0  \"BREAKING: Reports confirm the death of Genera...   \n",
       "1  \"A 7.9-magnitude earthquake in Myanmar, devast...   \n",
       "2  \"A mother holds the bones of her son in Gaza. ...   \n",
       "3  \"Israeli media reports there are Jews who have...   \n",
       "4  \"Americans bombarded Yemen in reprisal after Y...   \n",
       "\n",
       "                                 Original_Claim_Only  \\\n",
       "0  \"BREAKING: Reports confirm the death of Genera...   \n",
       "1  \"A 7.9-magnitude earthquake in Myanmar, devast...   \n",
       "2  \"A mother holds the bones of her son in Gaza. ...   \n",
       "3  \"Israeli media reports there are Jews who have...   \n",
       "4  \"Americans bombarded Yemen in reprisal after Y...   \n",
       "\n",
       "                           Context/Label_Explanation  Text_Only_Claim  \\\n",
       "0  A reverse image search reveals the photograph ...            False   \n",
       "1  However, a reverse image search for the first ...            False   \n",
       "2  A keyword search found a wider-angle version o...            False   \n",
       "3  A reverse image search via Google traced the v...            False   \n",
       "4  But a reverse image search on Google found the...            False   \n",
       "\n",
       "   Normal_Image  AI_Generated_Image  Altered_Image Data_Collection_Type  \\\n",
       "0          True               False          False               Manual   \n",
       "1          True               False          False               Manual   \n",
       "2         False                True          False               Manual   \n",
       "3          True               False          False               Manual   \n",
       "4          True               False          False               Manual   \n",
       "\n",
       "   Label                                              Claim  \n",
       "0  False  This image shows General John Pagri, Commander...  \n",
       "1  False  This image shows the ruins after a 7.9-magnitu...  \n",
       "2  False  This is an authentic image of a mother holding...  \n",
       "3  False  This image shows Israelis who have stopped fig...  \n",
       "4  False  This image shows the U.S. bombarding Yemen on ...  "
      ]
     },
     "execution_count": 15,
     "metadata": {},
     "output_type": "execute_result"
    }
   ],
   "source": [
    "df_gaza_israel.head()"
   ]
  },
  {
   "cell_type": "code",
   "execution_count": 16,
   "metadata": {},
   "outputs": [
    {
     "name": "stdout",
     "output_type": "stream",
     "text": [
      "Found 65 claims with iamge URLs out of 100 claims\n"
     ]
    },
    {
     "name": "stderr",
     "output_type": "stream",
     "text": [
      "Scraping gaza_israel images:   0%|          | 0/65 [00:00<?, ?it/s]/Library/Frameworks/Python.framework/Versions/3.12/lib/python3.12/site-packages/urllib3/connectionpool.py:1099: InsecureRequestWarning: Unverified HTTPS request is being made to host 'pbs.twimg.com'. Adding certificate verification is strongly advised. See: https://urllib3.readthedocs.io/en/latest/advanced-usage.html#tls-warnings\n",
      "  warnings.warn(\n",
      "Scraping gaza_israel images:   2%|▏         | 1/65 [00:00<00:54,  1.18it/s]"
     ]
    },
    {
     "name": "stdout",
     "output_type": "stream",
     "text": [
      "Successfully saved 0 in jpg format.\n"
     ]
    },
    {
     "name": "stderr",
     "output_type": "stream",
     "text": [
      "/Library/Frameworks/Python.framework/Versions/3.12/lib/python3.12/site-packages/urllib3/connectionpool.py:1099: InsecureRequestWarning: Unverified HTTPS request is being made to host 'web.archive.org'. Adding certificate verification is strongly advised. See: https://urllib3.readthedocs.io/en/latest/advanced-usage.html#tls-warnings\n",
      "  warnings.warn(\n",
      "Scraping gaza_israel images:   3%|▎         | 2/65 [00:02<01:28,  1.40s/it]"
     ]
    },
    {
     "name": "stdout",
     "output_type": "stream",
     "text": [
      "Successfully saved 1 in jpg format.\n"
     ]
    },
    {
     "name": "stderr",
     "output_type": "stream",
     "text": [
      "/Library/Frameworks/Python.framework/Versions/3.12/lib/python3.12/site-packages/urllib3/connectionpool.py:1099: InsecureRequestWarning: Unverified HTTPS request is being made to host 'web.archive.org'. Adding certificate verification is strongly advised. See: https://urllib3.readthedocs.io/en/latest/advanced-usage.html#tls-warnings\n",
      "  warnings.warn(\n",
      "Scraping gaza_israel images:   5%|▍         | 3/65 [00:03<01:21,  1.31s/it]"
     ]
    },
    {
     "name": "stdout",
     "output_type": "stream",
     "text": [
      "Successfully saved 2 in jpg format.\n"
     ]
    },
    {
     "name": "stderr",
     "output_type": "stream",
     "text": [
      "/Library/Frameworks/Python.framework/Versions/3.12/lib/python3.12/site-packages/urllib3/connectionpool.py:1099: InsecureRequestWarning: Unverified HTTPS request is being made to host 'pbs.twimg.com'. Adding certificate verification is strongly advised. See: https://urllib3.readthedocs.io/en/latest/advanced-usage.html#tls-warnings\n",
      "  warnings.warn(\n",
      "Scraping gaza_israel images:   6%|▌         | 4/65 [00:04<01:02,  1.03s/it]"
     ]
    },
    {
     "name": "stdout",
     "output_type": "stream",
     "text": [
      "Successfully saved 3 in jpg format.\n"
     ]
    },
    {
     "name": "stderr",
     "output_type": "stream",
     "text": [
      "/Library/Frameworks/Python.framework/Versions/3.12/lib/python3.12/site-packages/urllib3/connectionpool.py:1099: InsecureRequestWarning: Unverified HTTPS request is being made to host 'media.gettyimages.com'. Adding certificate verification is strongly advised. See: https://urllib3.readthedocs.io/en/latest/advanced-usage.html#tls-warnings\n",
      "  warnings.warn(\n",
      "Scraping gaza_israel images:   8%|▊         | 5/65 [00:05<00:56,  1.06it/s]"
     ]
    },
    {
     "name": "stdout",
     "output_type": "stream",
     "text": [
      "Successfully saved 4 in jpg format.\n"
     ]
    },
    {
     "name": "stderr",
     "output_type": "stream",
     "text": [
      "/Library/Frameworks/Python.framework/Versions/3.12/lib/python3.12/site-packages/urllib3/connectionpool.py:1099: InsecureRequestWarning: Unverified HTTPS request is being made to host 't1.blockdit.com'. Adding certificate verification is strongly advised. See: https://urllib3.readthedocs.io/en/latest/advanced-usage.html#tls-warnings\n",
      "  warnings.warn(\n",
      "Scraping gaza_israel images:   9%|▉         | 6/65 [00:05<00:48,  1.21it/s]"
     ]
    },
    {
     "name": "stdout",
     "output_type": "stream",
     "text": [
      "Successfully saved 5 in jpg format.\n"
     ]
    },
    {
     "name": "stderr",
     "output_type": "stream",
     "text": [
      "/Library/Frameworks/Python.framework/Versions/3.12/lib/python3.12/site-packages/urllib3/connectionpool.py:1099: InsecureRequestWarning: Unverified HTTPS request is being made to host 'web.archive.org'. Adding certificate verification is strongly advised. See: https://urllib3.readthedocs.io/en/latest/advanced-usage.html#tls-warnings\n",
      "  warnings.warn(\n",
      "Scraping gaza_israel images:  11%|█         | 7/65 [00:14<03:17,  3.41s/it]"
     ]
    },
    {
     "name": "stdout",
     "output_type": "stream",
     "text": [
      "Successfully saved 6 in jpg format.\n"
     ]
    },
    {
     "name": "stderr",
     "output_type": "stream",
     "text": [
      "/Library/Frameworks/Python.framework/Versions/3.12/lib/python3.12/site-packages/urllib3/connectionpool.py:1099: InsecureRequestWarning: Unverified HTTPS request is being made to host 'resource.nationtv.tv'. Adding certificate verification is strongly advised. See: https://urllib3.readthedocs.io/en/latest/advanced-usage.html#tls-warnings\n",
      "  warnings.warn(\n",
      "Scraping gaza_israel images:  12%|█▏        | 8/65 [00:15<02:33,  2.69s/it]"
     ]
    },
    {
     "name": "stdout",
     "output_type": "stream",
     "text": [
      "Successfully saved 8 in jpg format.\n"
     ]
    },
    {
     "name": "stderr",
     "output_type": "stream",
     "text": [
      "/Library/Frameworks/Python.framework/Versions/3.12/lib/python3.12/site-packages/urllib3/connectionpool.py:1099: InsecureRequestWarning: Unverified HTTPS request is being made to host 'www.xinghuozhiku.com'. Adding certificate verification is strongly advised. See: https://urllib3.readthedocs.io/en/latest/advanced-usage.html#tls-warnings\n",
      "  warnings.warn(\n",
      "Scraping gaza_israel images:  14%|█▍        | 9/65 [00:16<02:02,  2.19s/it]"
     ]
    },
    {
     "name": "stdout",
     "output_type": "stream",
     "text": [
      "Successfully saved 9 in jpg format.\n"
     ]
    },
    {
     "name": "stderr",
     "output_type": "stream",
     "text": [
      "/Library/Frameworks/Python.framework/Versions/3.12/lib/python3.12/site-packages/urllib3/connectionpool.py:1099: InsecureRequestWarning: Unverified HTTPS request is being made to host 'pbs.twimg.com'. Adding certificate verification is strongly advised. See: https://urllib3.readthedocs.io/en/latest/advanced-usage.html#tls-warnings\n",
      "  warnings.warn(\n",
      "Scraping gaza_israel images:  15%|█▌        | 10/65 [00:17<01:35,  1.73s/it]"
     ]
    },
    {
     "name": "stdout",
     "output_type": "stream",
     "text": [
      "Successfully saved 10 in jpg format.\n"
     ]
    },
    {
     "name": "stderr",
     "output_type": "stream",
     "text": [
      "/Library/Frameworks/Python.framework/Versions/3.12/lib/python3.12/site-packages/urllib3/connectionpool.py:1099: InsecureRequestWarning: Unverified HTTPS request is being made to host 'img9.irna.ir'. Adding certificate verification is strongly advised. See: https://urllib3.readthedocs.io/en/latest/advanced-usage.html#tls-warnings\n",
      "  warnings.warn(\n",
      "Scraping gaza_israel images:  17%|█▋        | 11/65 [00:19<01:38,  1.83s/it]"
     ]
    },
    {
     "name": "stdout",
     "output_type": "stream",
     "text": [
      "Successfully saved 13 in jpg format.\n"
     ]
    },
    {
     "name": "stderr",
     "output_type": "stream",
     "text": [
      "/Library/Frameworks/Python.framework/Versions/3.12/lib/python3.12/site-packages/urllib3/connectionpool.py:1099: InsecureRequestWarning: Unverified HTTPS request is being made to host 'cdn.i-scmp.com'. Adding certificate verification is strongly advised. See: https://urllib3.readthedocs.io/en/latest/advanced-usage.html#tls-warnings\n",
      "  warnings.warn(\n",
      "Scraping gaza_israel images:  18%|█▊        | 12/65 [00:20<01:17,  1.47s/it]"
     ]
    },
    {
     "name": "stdout",
     "output_type": "stream",
     "text": [
      "Successfully saved 14 in jpg format.\n"
     ]
    },
    {
     "name": "stderr",
     "output_type": "stream",
     "text": [
      "/Library/Frameworks/Python.framework/Versions/3.12/lib/python3.12/site-packages/urllib3/connectionpool.py:1099: InsecureRequestWarning: Unverified HTTPS request is being made to host 'i.cbc.ca'. Adding certificate verification is strongly advised. See: https://urllib3.readthedocs.io/en/latest/advanced-usage.html#tls-warnings\n",
      "  warnings.warn(\n",
      "Scraping gaza_israel images:  20%|██        | 13/65 [00:20<01:03,  1.22s/it]"
     ]
    },
    {
     "name": "stdout",
     "output_type": "stream",
     "text": [
      "Successfully saved 15 in jpg format.\n"
     ]
    },
    {
     "name": "stderr",
     "output_type": "stream",
     "text": [
      "/Library/Frameworks/Python.framework/Versions/3.12/lib/python3.12/site-packages/urllib3/connectionpool.py:1099: InsecureRequestWarning: Unverified HTTPS request is being made to host 'ynet-pic1.yit.co.il'. Adding certificate verification is strongly advised. See: https://urllib3.readthedocs.io/en/latest/advanced-usage.html#tls-warnings\n",
      "  warnings.warn(\n",
      "Scraping gaza_israel images:  22%|██▏       | 14/65 [00:21<00:54,  1.06s/it]"
     ]
    },
    {
     "name": "stdout",
     "output_type": "stream",
     "text": [
      "Successfully saved 16 in jpg format.\n"
     ]
    },
    {
     "name": "stderr",
     "output_type": "stream",
     "text": [
      "/Library/Frameworks/Python.framework/Versions/3.12/lib/python3.12/site-packages/urllib3/connectionpool.py:1099: InsecureRequestWarning: Unverified HTTPS request is being made to host 'www.vice.com'. Adding certificate verification is strongly advised. See: https://urllib3.readthedocs.io/en/latest/advanced-usage.html#tls-warnings\n",
      "  warnings.warn(\n",
      "Scraping gaza_israel images:  23%|██▎       | 15/65 [00:22<00:48,  1.04it/s]"
     ]
    },
    {
     "name": "stdout",
     "output_type": "stream",
     "text": [
      "Successfully saved 18 in jpg format.\n"
     ]
    },
    {
     "name": "stderr",
     "output_type": "stream",
     "text": [
      "/Library/Frameworks/Python.framework/Versions/3.12/lib/python3.12/site-packages/urllib3/connectionpool.py:1099: InsecureRequestWarning: Unverified HTTPS request is being made to host 'pbs.twimg.com'. Adding certificate verification is strongly advised. See: https://urllib3.readthedocs.io/en/latest/advanced-usage.html#tls-warnings\n",
      "  warnings.warn(\n",
      "Scraping gaza_israel images:  25%|██▍       | 16/65 [00:22<00:43,  1.13it/s]"
     ]
    },
    {
     "name": "stdout",
     "output_type": "stream",
     "text": [
      "Successfully saved 19 in jpg format.\n"
     ]
    },
    {
     "name": "stderr",
     "output_type": "stream",
     "text": [
      "/Library/Frameworks/Python.framework/Versions/3.12/lib/python3.12/site-packages/urllib3/connectionpool.py:1099: InsecureRequestWarning: Unverified HTTPS request is being made to host 'web.archive.org'. Adding certificate verification is strongly advised. See: https://urllib3.readthedocs.io/en/latest/advanced-usage.html#tls-warnings\n",
      "  warnings.warn(\n",
      "Scraping gaza_israel images:  26%|██▌       | 17/65 [00:24<00:50,  1.06s/it]"
     ]
    },
    {
     "name": "stdout",
     "output_type": "stream",
     "text": [
      "Successfully saved 22 in jpg format.\n"
     ]
    },
    {
     "name": "stderr",
     "output_type": "stream",
     "text": [
      "/Library/Frameworks/Python.framework/Versions/3.12/lib/python3.12/site-packages/urllib3/connectionpool.py:1099: InsecureRequestWarning: Unverified HTTPS request is being made to host 'pbs.twimg.com'. Adding certificate verification is strongly advised. See: https://urllib3.readthedocs.io/en/latest/advanced-usage.html#tls-warnings\n",
      "  warnings.warn(\n",
      "Scraping gaza_israel images:  28%|██▊       | 18/65 [00:25<00:43,  1.08it/s]"
     ]
    },
    {
     "name": "stdout",
     "output_type": "stream",
     "text": [
      "Successfully saved 24 in jpg format.\n"
     ]
    },
    {
     "name": "stderr",
     "output_type": "stream",
     "text": [
      "/Library/Frameworks/Python.framework/Versions/3.12/lib/python3.12/site-packages/urllib3/connectionpool.py:1099: InsecureRequestWarning: Unverified HTTPS request is being made to host 'pbs.twimg.com'. Adding certificate verification is strongly advised. See: https://urllib3.readthedocs.io/en/latest/advanced-usage.html#tls-warnings\n",
      "  warnings.warn(\n",
      "Scraping gaza_israel images:  29%|██▉       | 19/65 [00:25<00:40,  1.13it/s]"
     ]
    },
    {
     "name": "stdout",
     "output_type": "stream",
     "text": [
      "Successfully saved 26 in jpg format.\n"
     ]
    },
    {
     "name": "stderr",
     "output_type": "stream",
     "text": [
      "/Library/Frameworks/Python.framework/Versions/3.12/lib/python3.12/site-packages/urllib3/connectionpool.py:1099: InsecureRequestWarning: Unverified HTTPS request is being made to host 'pbs.twimg.com'. Adding certificate verification is strongly advised. See: https://urllib3.readthedocs.io/en/latest/advanced-usage.html#tls-warnings\n",
      "  warnings.warn(\n",
      "Scraping gaza_israel images:  31%|███       | 20/65 [00:26<00:37,  1.19it/s]"
     ]
    },
    {
     "name": "stdout",
     "output_type": "stream",
     "text": [
      "Successfully saved 27 in jpg format.\n"
     ]
    },
    {
     "name": "stderr",
     "output_type": "stream",
     "text": [
      "/Library/Frameworks/Python.framework/Versions/3.12/lib/python3.12/site-packages/urllib3/connectionpool.py:1099: InsecureRequestWarning: Unverified HTTPS request is being made to host 'web.archive.org'. Adding certificate verification is strongly advised. See: https://urllib3.readthedocs.io/en/latest/advanced-usage.html#tls-warnings\n",
      "  warnings.warn(\n",
      "Scraping gaza_israel images:  32%|███▏      | 21/65 [00:27<00:40,  1.09it/s]"
     ]
    },
    {
     "name": "stdout",
     "output_type": "stream",
     "text": [
      "Successfully saved 30 in jpg format.\n"
     ]
    },
    {
     "name": "stderr",
     "output_type": "stream",
     "text": [
      "/Library/Frameworks/Python.framework/Versions/3.12/lib/python3.12/site-packages/urllib3/connectionpool.py:1099: InsecureRequestWarning: Unverified HTTPS request is being made to host 'web.archive.org'. Adding certificate verification is strongly advised. See: https://urllib3.readthedocs.io/en/latest/advanced-usage.html#tls-warnings\n",
      "  warnings.warn(\n",
      "Scraping gaza_israel images:  34%|███▍      | 22/65 [00:28<00:43,  1.01s/it]"
     ]
    },
    {
     "name": "stdout",
     "output_type": "stream",
     "text": [
      "Successfully saved 31 in jpg format.\n"
     ]
    },
    {
     "name": "stderr",
     "output_type": "stream",
     "text": [
      "/Library/Frameworks/Python.framework/Versions/3.12/lib/python3.12/site-packages/urllib3/connectionpool.py:1099: InsecureRequestWarning: Unverified HTTPS request is being made to host 'c12mediaforum.afp.com'. Adding certificate verification is strongly advised. See: https://urllib3.readthedocs.io/en/latest/advanced-usage.html#tls-warnings\n",
      "  warnings.warn(\n",
      "Scraping gaza_israel images:  35%|███▌      | 23/65 [00:29<00:39,  1.07it/s]"
     ]
    },
    {
     "name": "stdout",
     "output_type": "stream",
     "text": [
      "Successfully saved 34 in jpg format.\n"
     ]
    },
    {
     "name": "stderr",
     "output_type": "stream",
     "text": [
      "/Library/Frameworks/Python.framework/Versions/3.12/lib/python3.12/site-packages/urllib3/connectionpool.py:1099: InsecureRequestWarning: Unverified HTTPS request is being made to host 'pbs.twimg.com'. Adding certificate verification is strongly advised. See: https://urllib3.readthedocs.io/en/latest/advanced-usage.html#tls-warnings\n",
      "  warnings.warn(\n",
      "Scraping gaza_israel images:  37%|███▋      | 24/65 [00:30<00:35,  1.15it/s]"
     ]
    },
    {
     "name": "stdout",
     "output_type": "stream",
     "text": [
      "Successfully saved 35 in jpg format.\n"
     ]
    },
    {
     "name": "stderr",
     "output_type": "stream",
     "text": [
      "/Library/Frameworks/Python.framework/Versions/3.12/lib/python3.12/site-packages/urllib3/connectionpool.py:1099: InsecureRequestWarning: Unverified HTTPS request is being made to host 'pbs.twimg.com'. Adding certificate verification is strongly advised. See: https://urllib3.readthedocs.io/en/latest/advanced-usage.html#tls-warnings\n",
      "  warnings.warn(\n",
      "Scraping gaza_israel images:  38%|███▊      | 25/65 [00:31<00:33,  1.21it/s]"
     ]
    },
    {
     "name": "stdout",
     "output_type": "stream",
     "text": [
      "Successfully saved 37 in jpg format.\n"
     ]
    },
    {
     "name": "stderr",
     "output_type": "stream",
     "text": [
      "/Library/Frameworks/Python.framework/Versions/3.12/lib/python3.12/site-packages/urllib3/connectionpool.py:1099: InsecureRequestWarning: Unverified HTTPS request is being made to host 'pbs.twimg.com'. Adding certificate verification is strongly advised. See: https://urllib3.readthedocs.io/en/latest/advanced-usage.html#tls-warnings\n",
      "  warnings.warn(\n",
      "Scraping gaza_israel images:  40%|████      | 26/65 [00:31<00:29,  1.34it/s]"
     ]
    },
    {
     "name": "stdout",
     "output_type": "stream",
     "text": [
      "Successfully saved 38 in jpg format.\n"
     ]
    },
    {
     "name": "stderr",
     "output_type": "stream",
     "text": [
      "/Library/Frameworks/Python.framework/Versions/3.12/lib/python3.12/site-packages/urllib3/connectionpool.py:1099: InsecureRequestWarning: Unverified HTTPS request is being made to host 'archive.org'. Adding certificate verification is strongly advised. See: https://urllib3.readthedocs.io/en/latest/advanced-usage.html#tls-warnings\n",
      "  warnings.warn(\n",
      "/Library/Frameworks/Python.framework/Versions/3.12/lib/python3.12/site-packages/urllib3/connectionpool.py:1099: InsecureRequestWarning: Unverified HTTPS request is being made to host 'dn721605.ca.archive.org'. Adding certificate verification is strongly advised. See: https://urllib3.readthedocs.io/en/latest/advanced-usage.html#tls-warnings\n",
      "  warnings.warn(\n",
      "Scraping gaza_israel images:  42%|████▏     | 27/65 [00:33<00:43,  1.15s/it]"
     ]
    },
    {
     "name": "stdout",
     "output_type": "stream",
     "text": [
      "Successfully saved 39 in jpg format.\n"
     ]
    },
    {
     "name": "stderr",
     "output_type": "stream",
     "text": [
      "/Library/Frameworks/Python.framework/Versions/3.12/lib/python3.12/site-packages/urllib3/connectionpool.py:1099: InsecureRequestWarning: Unverified HTTPS request is being made to host 'mediaproxy.snopes.com'. Adding certificate verification is strongly advised. See: https://urllib3.readthedocs.io/en/latest/advanced-usage.html#tls-warnings\n",
      "  warnings.warn(\n",
      "Scraping gaza_israel images:  43%|████▎     | 28/65 [00:34<00:37,  1.00s/it]"
     ]
    },
    {
     "name": "stdout",
     "output_type": "stream",
     "text": [
      "Successfully saved 44 in jpg format.\n"
     ]
    },
    {
     "name": "stderr",
     "output_type": "stream",
     "text": [
      "/Library/Frameworks/Python.framework/Versions/3.12/lib/python3.12/site-packages/urllib3/connectionpool.py:1099: InsecureRequestWarning: Unverified HTTPS request is being made to host 'pbs.twimg.com'. Adding certificate verification is strongly advised. See: https://urllib3.readthedocs.io/en/latest/advanced-usage.html#tls-warnings\n",
      "  warnings.warn(\n",
      "Scraping gaza_israel images:  45%|████▍     | 29/65 [00:35<00:32,  1.11it/s]"
     ]
    },
    {
     "name": "stdout",
     "output_type": "stream",
     "text": [
      "Successfully saved 45 in jpg format.\n"
     ]
    },
    {
     "name": "stderr",
     "output_type": "stream",
     "text": [
      "/Library/Frameworks/Python.framework/Versions/3.12/lib/python3.12/site-packages/urllib3/connectionpool.py:1099: InsecureRequestWarning: Unverified HTTPS request is being made to host 'mediaproxy.snopes.com'. Adding certificate verification is strongly advised. See: https://urllib3.readthedocs.io/en/latest/advanced-usage.html#tls-warnings\n",
      "  warnings.warn(\n",
      "Scraping gaza_israel images:  46%|████▌     | 30/65 [00:35<00:27,  1.26it/s]"
     ]
    },
    {
     "name": "stdout",
     "output_type": "stream",
     "text": [
      "Successfully saved 47 in jpg format.\n"
     ]
    },
    {
     "name": "stderr",
     "output_type": "stream",
     "text": [
      "/Library/Frameworks/Python.framework/Versions/3.12/lib/python3.12/site-packages/urllib3/connectionpool.py:1099: InsecureRequestWarning: Unverified HTTPS request is being made to host 'pbs.twimg.com'. Adding certificate verification is strongly advised. See: https://urllib3.readthedocs.io/en/latest/advanced-usage.html#tls-warnings\n",
      "  warnings.warn(\n",
      "Scraping gaza_israel images:  48%|████▊     | 31/65 [00:36<00:26,  1.28it/s]"
     ]
    },
    {
     "name": "stdout",
     "output_type": "stream",
     "text": [
      "Successfully saved 56 in jpg format.\n"
     ]
    },
    {
     "name": "stderr",
     "output_type": "stream",
     "text": [
      "/Library/Frameworks/Python.framework/Versions/3.12/lib/python3.12/site-packages/urllib3/connectionpool.py:1099: InsecureRequestWarning: Unverified HTTPS request is being made to host 'pbs.twimg.com'. Adding certificate verification is strongly advised. See: https://urllib3.readthedocs.io/en/latest/advanced-usage.html#tls-warnings\n",
      "  warnings.warn(\n",
      "Scraping gaza_israel images:  49%|████▉     | 32/65 [00:37<00:24,  1.35it/s]"
     ]
    },
    {
     "name": "stdout",
     "output_type": "stream",
     "text": [
      "Successfully saved 57 in jpg format.\n"
     ]
    },
    {
     "name": "stderr",
     "output_type": "stream",
     "text": [
      "/Library/Frameworks/Python.framework/Versions/3.12/lib/python3.12/site-packages/urllib3/connectionpool.py:1099: InsecureRequestWarning: Unverified HTTPS request is being made to host 'assets.misbar.com'. Adding certificate verification is strongly advised. See: https://urllib3.readthedocs.io/en/latest/advanced-usage.html#tls-warnings\n",
      "  warnings.warn(\n",
      "Scraping gaza_israel images:  51%|█████     | 33/65 [00:37<00:22,  1.41it/s]"
     ]
    },
    {
     "name": "stdout",
     "output_type": "stream",
     "text": [
      "Successfully saved 58 in jpg format.\n"
     ]
    },
    {
     "name": "stderr",
     "output_type": "stream",
     "text": [
      "/Library/Frameworks/Python.framework/Versions/3.12/lib/python3.12/site-packages/urllib3/connectionpool.py:1099: InsecureRequestWarning: Unverified HTTPS request is being made to host 'pbs.twimg.com'. Adding certificate verification is strongly advised. See: https://urllib3.readthedocs.io/en/latest/advanced-usage.html#tls-warnings\n",
      "  warnings.warn(\n",
      "Scraping gaza_israel images:  52%|█████▏    | 34/65 [00:38<00:21,  1.45it/s]"
     ]
    },
    {
     "name": "stdout",
     "output_type": "stream",
     "text": [
      "Successfully saved 59 in jpg format.\n"
     ]
    },
    {
     "name": "stderr",
     "output_type": "stream",
     "text": [
      "/Library/Frameworks/Python.framework/Versions/3.12/lib/python3.12/site-packages/urllib3/connectionpool.py:1099: InsecureRequestWarning: Unverified HTTPS request is being made to host 'media.gettyimages.com'. Adding certificate verification is strongly advised. See: https://urllib3.readthedocs.io/en/latest/advanced-usage.html#tls-warnings\n",
      "  warnings.warn(\n",
      "Scraping gaza_israel images:  54%|█████▍    | 35/65 [00:39<00:21,  1.42it/s]"
     ]
    },
    {
     "name": "stdout",
     "output_type": "stream",
     "text": [
      "Successfully saved 60 in jpg format.\n"
     ]
    },
    {
     "name": "stderr",
     "output_type": "stream",
     "text": [
      "/Library/Frameworks/Python.framework/Versions/3.12/lib/python3.12/site-packages/urllib3/connectionpool.py:1099: InsecureRequestWarning: Unverified HTTPS request is being made to host 'assets.misbar.com'. Adding certificate verification is strongly advised. See: https://urllib3.readthedocs.io/en/latest/advanced-usage.html#tls-warnings\n",
      "  warnings.warn(\n",
      "Scraping gaza_israel images:  55%|█████▌    | 36/65 [00:39<00:18,  1.54it/s]"
     ]
    },
    {
     "name": "stdout",
     "output_type": "stream",
     "text": [
      "Successfully saved 61 in jpg format.\n"
     ]
    },
    {
     "name": "stderr",
     "output_type": "stream",
     "text": [
      "/Library/Frameworks/Python.framework/Versions/3.12/lib/python3.12/site-packages/urllib3/connectionpool.py:1099: InsecureRequestWarning: Unverified HTTPS request is being made to host 'assets.misbar.com'. Adding certificate verification is strongly advised. See: https://urllib3.readthedocs.io/en/latest/advanced-usage.html#tls-warnings\n",
      "  warnings.warn(\n",
      "Scraping gaza_israel images:  57%|█████▋    | 37/65 [00:40<00:18,  1.52it/s]"
     ]
    },
    {
     "name": "stdout",
     "output_type": "stream",
     "text": [
      "Successfully saved 62 in jpg format.\n"
     ]
    },
    {
     "name": "stderr",
     "output_type": "stream",
     "text": [
      "/Library/Frameworks/Python.framework/Versions/3.12/lib/python3.12/site-packages/urllib3/connectionpool.py:1099: InsecureRequestWarning: Unverified HTTPS request is being made to host 'pbs.twimg.com'. Adding certificate verification is strongly advised. See: https://urllib3.readthedocs.io/en/latest/advanced-usage.html#tls-warnings\n",
      "  warnings.warn(\n",
      "Scraping gaza_israel images:  58%|█████▊    | 38/65 [00:41<00:18,  1.44it/s]"
     ]
    },
    {
     "name": "stdout",
     "output_type": "stream",
     "text": [
      "Successfully saved 63 in jpg format.\n"
     ]
    },
    {
     "name": "stderr",
     "output_type": "stream",
     "text": [
      "/Library/Frameworks/Python.framework/Versions/3.12/lib/python3.12/site-packages/urllib3/connectionpool.py:1099: InsecureRequestWarning: Unverified HTTPS request is being made to host 'pbs.twimg.com'. Adding certificate verification is strongly advised. See: https://urllib3.readthedocs.io/en/latest/advanced-usage.html#tls-warnings\n",
      "  warnings.warn(\n",
      "Scraping gaza_israel images:  60%|██████    | 39/65 [00:41<00:17,  1.45it/s]"
     ]
    },
    {
     "name": "stdout",
     "output_type": "stream",
     "text": [
      "Successfully saved 65 in jpg format.\n"
     ]
    },
    {
     "name": "stderr",
     "output_type": "stream",
     "text": [
      "/Library/Frameworks/Python.framework/Versions/3.12/lib/python3.12/site-packages/urllib3/connectionpool.py:1099: InsecureRequestWarning: Unverified HTTPS request is being made to host 'assets.misbar.com'. Adding certificate verification is strongly advised. See: https://urllib3.readthedocs.io/en/latest/advanced-usage.html#tls-warnings\n",
      "  warnings.warn(\n",
      "Scraping gaza_israel images:  62%|██████▏   | 40/65 [00:42<00:16,  1.51it/s]"
     ]
    },
    {
     "name": "stdout",
     "output_type": "stream",
     "text": [
      "Successfully saved 66 in jpg format.\n"
     ]
    },
    {
     "name": "stderr",
     "output_type": "stream",
     "text": [
      "/Library/Frameworks/Python.framework/Versions/3.12/lib/python3.12/site-packages/urllib3/connectionpool.py:1099: InsecureRequestWarning: Unverified HTTPS request is being made to host 'pbs.twimg.com'. Adding certificate verification is strongly advised. See: https://urllib3.readthedocs.io/en/latest/advanced-usage.html#tls-warnings\n",
      "  warnings.warn(\n",
      "Scraping gaza_israel images:  63%|██████▎   | 41/65 [00:42<00:14,  1.62it/s]"
     ]
    },
    {
     "name": "stdout",
     "output_type": "stream",
     "text": [
      "Successfully saved 68 in jpg format.\n"
     ]
    },
    {
     "name": "stderr",
     "output_type": "stream",
     "text": [
      "/Library/Frameworks/Python.framework/Versions/3.12/lib/python3.12/site-packages/urllib3/connectionpool.py:1099: InsecureRequestWarning: Unverified HTTPS request is being made to host 'assets.misbar.com'. Adding certificate verification is strongly advised. See: https://urllib3.readthedocs.io/en/latest/advanced-usage.html#tls-warnings\n",
      "  warnings.warn(\n",
      "Scraping gaza_israel images:  65%|██████▍   | 42/65 [00:43<00:13,  1.70it/s]"
     ]
    },
    {
     "name": "stdout",
     "output_type": "stream",
     "text": [
      "Successfully saved 69 in jpg format.\n"
     ]
    },
    {
     "name": "stderr",
     "output_type": "stream",
     "text": [
      "/Library/Frameworks/Python.framework/Versions/3.12/lib/python3.12/site-packages/urllib3/connectionpool.py:1099: InsecureRequestWarning: Unverified HTTPS request is being made to host 'foto.haberler.com'. Adding certificate verification is strongly advised. See: https://urllib3.readthedocs.io/en/latest/advanced-usage.html#tls-warnings\n",
      "  warnings.warn(\n",
      "Scraping gaza_israel images:  66%|██████▌   | 43/65 [00:45<00:24,  1.13s/it]"
     ]
    },
    {
     "name": "stdout",
     "output_type": "stream",
     "text": [
      "Successfully saved 71 in jpg format.\n"
     ]
    },
    {
     "name": "stderr",
     "output_type": "stream",
     "text": [
      "/Library/Frameworks/Python.framework/Versions/3.12/lib/python3.12/site-packages/urllib3/connectionpool.py:1099: InsecureRequestWarning: Unverified HTTPS request is being made to host 'pbs.twimg.com'. Adding certificate verification is strongly advised. See: https://urllib3.readthedocs.io/en/latest/advanced-usage.html#tls-warnings\n",
      "  warnings.warn(\n",
      "Scraping gaza_israel images:  68%|██████▊   | 44/65 [00:46<00:20,  1.03it/s]"
     ]
    },
    {
     "name": "stdout",
     "output_type": "stream",
     "text": [
      "Successfully saved 72 in jpg format.\n"
     ]
    },
    {
     "name": "stderr",
     "output_type": "stream",
     "text": [
      "/Library/Frameworks/Python.framework/Versions/3.12/lib/python3.12/site-packages/urllib3/connectionpool.py:1099: InsecureRequestWarning: Unverified HTTPS request is being made to host 'pbs.twimg.com'. Adding certificate verification is strongly advised. See: https://urllib3.readthedocs.io/en/latest/advanced-usage.html#tls-warnings\n",
      "  warnings.warn(\n",
      "Scraping gaza_israel images:  69%|██████▉   | 45/65 [00:46<00:17,  1.17it/s]"
     ]
    },
    {
     "name": "stdout",
     "output_type": "stream",
     "text": [
      "Successfully saved 73 in jpg format.\n"
     ]
    },
    {
     "name": "stderr",
     "output_type": "stream",
     "text": [
      "/Library/Frameworks/Python.framework/Versions/3.12/lib/python3.12/site-packages/urllib3/connectionpool.py:1099: InsecureRequestWarning: Unverified HTTPS request is being made to host 'assets.misbar.com'. Adding certificate verification is strongly advised. See: https://urllib3.readthedocs.io/en/latest/advanced-usage.html#tls-warnings\n",
      "  warnings.warn(\n",
      "Scraping gaza_israel images:  71%|███████   | 46/65 [00:47<00:14,  1.29it/s]"
     ]
    },
    {
     "name": "stdout",
     "output_type": "stream",
     "text": [
      "Successfully saved 75 in jpg format.\n"
     ]
    },
    {
     "name": "stderr",
     "output_type": "stream",
     "text": [
      "/Library/Frameworks/Python.framework/Versions/3.12/lib/python3.12/site-packages/urllib3/connectionpool.py:1099: InsecureRequestWarning: Unverified HTTPS request is being made to host 'web.archive.org'. Adding certificate verification is strongly advised. See: https://urllib3.readthedocs.io/en/latest/advanced-usage.html#tls-warnings\n",
      "  warnings.warn(\n",
      "Scraping gaza_israel images:  72%|███████▏  | 47/65 [00:51<00:32,  1.80s/it]"
     ]
    },
    {
     "name": "stdout",
     "output_type": "stream",
     "text": [
      "Successfully saved 76 in jpg format.\n"
     ]
    },
    {
     "name": "stderr",
     "output_type": "stream",
     "text": [
      "/Library/Frameworks/Python.framework/Versions/3.12/lib/python3.12/site-packages/urllib3/connectionpool.py:1099: InsecureRequestWarning: Unverified HTTPS request is being made to host 'pbs.twimg.com'. Adding certificate verification is strongly advised. See: https://urllib3.readthedocs.io/en/latest/advanced-usage.html#tls-warnings\n",
      "  warnings.warn(\n",
      "Scraping gaza_israel images:  74%|███████▍  | 48/65 [00:52<00:24,  1.44s/it]"
     ]
    },
    {
     "name": "stdout",
     "output_type": "stream",
     "text": [
      "Successfully saved 79 in jpg format.\n"
     ]
    },
    {
     "name": "stderr",
     "output_type": "stream",
     "text": [
      "/Library/Frameworks/Python.framework/Versions/3.12/lib/python3.12/site-packages/urllib3/connectionpool.py:1099: InsecureRequestWarning: Unverified HTTPS request is being made to host 'assets.misbar.com'. Adding certificate verification is strongly advised. See: https://urllib3.readthedocs.io/en/latest/advanced-usage.html#tls-warnings\n",
      "  warnings.warn(\n",
      "Scraping gaza_israel images:  75%|███████▌  | 49/65 [00:52<00:18,  1.17s/it]"
     ]
    },
    {
     "name": "stdout",
     "output_type": "stream",
     "text": [
      "Successfully saved 80 in jpg format.\n"
     ]
    },
    {
     "name": "stderr",
     "output_type": "stream",
     "text": [
      "/Library/Frameworks/Python.framework/Versions/3.12/lib/python3.12/site-packages/urllib3/connectionpool.py:1099: InsecureRequestWarning: Unverified HTTPS request is being made to host 'pbs.twimg.com'. Adding certificate verification is strongly advised. See: https://urllib3.readthedocs.io/en/latest/advanced-usage.html#tls-warnings\n",
      "  warnings.warn(\n",
      "Scraping gaza_israel images:  77%|███████▋  | 50/65 [00:53<00:15,  1.03s/it]"
     ]
    },
    {
     "name": "stdout",
     "output_type": "stream",
     "text": [
      "Successfully saved 81 in jpg format.\n"
     ]
    },
    {
     "name": "stderr",
     "output_type": "stream",
     "text": [
      "/Library/Frameworks/Python.framework/Versions/3.12/lib/python3.12/site-packages/urllib3/connectionpool.py:1099: InsecureRequestWarning: Unverified HTTPS request is being made to host 'pbs.twimg.com'. Adding certificate verification is strongly advised. See: https://urllib3.readthedocs.io/en/latest/advanced-usage.html#tls-warnings\n",
      "  warnings.warn(\n",
      "Scraping gaza_israel images:  78%|███████▊  | 51/65 [00:54<00:12,  1.11it/s]"
     ]
    },
    {
     "name": "stdout",
     "output_type": "stream",
     "text": [
      "Successfully saved 82 in jpg format.\n"
     ]
    },
    {
     "name": "stderr",
     "output_type": "stream",
     "text": [
      "/Library/Frameworks/Python.framework/Versions/3.12/lib/python3.12/site-packages/urllib3/connectionpool.py:1099: InsecureRequestWarning: Unverified HTTPS request is being made to host 'pbs.twimg.com'. Adding certificate verification is strongly advised. See: https://urllib3.readthedocs.io/en/latest/advanced-usage.html#tls-warnings\n",
      "  warnings.warn(\n",
      "Scraping gaza_israel images:  80%|████████  | 52/65 [00:54<00:10,  1.23it/s]"
     ]
    },
    {
     "name": "stdout",
     "output_type": "stream",
     "text": [
      "Successfully saved 83 in jpg format.\n"
     ]
    },
    {
     "name": "stderr",
     "output_type": "stream",
     "text": [
      "/Library/Frameworks/Python.framework/Versions/3.12/lib/python3.12/site-packages/urllib3/connectionpool.py:1099: InsecureRequestWarning: Unverified HTTPS request is being made to host 'static-cdn.toi-media.com'. Adding certificate verification is strongly advised. See: https://urllib3.readthedocs.io/en/latest/advanced-usage.html#tls-warnings\n",
      "  warnings.warn(\n",
      "Scraping gaza_israel images:  82%|████████▏ | 53/65 [00:55<00:08,  1.34it/s]"
     ]
    },
    {
     "name": "stdout",
     "output_type": "stream",
     "text": [
      "Successfully saved 84 in jpg format.\n"
     ]
    },
    {
     "name": "stderr",
     "output_type": "stream",
     "text": [
      "/Library/Frameworks/Python.framework/Versions/3.12/lib/python3.12/site-packages/urllib3/connectionpool.py:1099: InsecureRequestWarning: Unverified HTTPS request is being made to host 'pbs.twimg.com'. Adding certificate verification is strongly advised. See: https://urllib3.readthedocs.io/en/latest/advanced-usage.html#tls-warnings\n",
      "  warnings.warn(\n",
      "Scraping gaza_israel images:  83%|████████▎ | 54/65 [00:55<00:07,  1.38it/s]"
     ]
    },
    {
     "name": "stdout",
     "output_type": "stream",
     "text": [
      "Successfully saved 85 in jpg format.\n"
     ]
    },
    {
     "name": "stderr",
     "output_type": "stream",
     "text": [
      "/Library/Frameworks/Python.framework/Versions/3.12/lib/python3.12/site-packages/urllib3/connectionpool.py:1099: InsecureRequestWarning: Unverified HTTPS request is being made to host 'pbs.twimg.com'. Adding certificate verification is strongly advised. See: https://urllib3.readthedocs.io/en/latest/advanced-usage.html#tls-warnings\n",
      "  warnings.warn(\n",
      "Scraping gaza_israel images:  85%|████████▍ | 55/65 [00:57<00:08,  1.19it/s]"
     ]
    },
    {
     "name": "stdout",
     "output_type": "stream",
     "text": [
      "Successfully saved 86 in jpg format.\n"
     ]
    },
    {
     "name": "stderr",
     "output_type": "stream",
     "text": [
      "/Library/Frameworks/Python.framework/Versions/3.12/lib/python3.12/site-packages/urllib3/connectionpool.py:1099: InsecureRequestWarning: Unverified HTTPS request is being made to host 'assets.misbar.com'. Adding certificate verification is strongly advised. See: https://urllib3.readthedocs.io/en/latest/advanced-usage.html#tls-warnings\n",
      "  warnings.warn(\n",
      "Scraping gaza_israel images:  86%|████████▌ | 56/65 [00:57<00:06,  1.35it/s]"
     ]
    },
    {
     "name": "stdout",
     "output_type": "stream",
     "text": [
      "Successfully saved 87 in jpg format.\n"
     ]
    },
    {
     "name": "stderr",
     "output_type": "stream",
     "text": [
      "/Library/Frameworks/Python.framework/Versions/3.12/lib/python3.12/site-packages/urllib3/connectionpool.py:1099: InsecureRequestWarning: Unverified HTTPS request is being made to host 'external-content.duckduckgo.com'. Adding certificate verification is strongly advised. See: https://urllib3.readthedocs.io/en/latest/advanced-usage.html#tls-warnings\n",
      "  warnings.warn(\n",
      "Scraping gaza_israel images:  88%|████████▊ | 57/65 [00:58<00:05,  1.35it/s]"
     ]
    },
    {
     "name": "stdout",
     "output_type": "stream",
     "text": [
      "Successfully saved 88 in jpg format.\n"
     ]
    },
    {
     "name": "stderr",
     "output_type": "stream",
     "text": [
      "/Library/Frameworks/Python.framework/Versions/3.12/lib/python3.12/site-packages/urllib3/connectionpool.py:1099: InsecureRequestWarning: Unverified HTTPS request is being made to host 'assets.misbar.com'. Adding certificate verification is strongly advised. See: https://urllib3.readthedocs.io/en/latest/advanced-usage.html#tls-warnings\n",
      "  warnings.warn(\n",
      "Scraping gaza_israel images:  89%|████████▉ | 58/65 [00:58<00:04,  1.45it/s]"
     ]
    },
    {
     "name": "stdout",
     "output_type": "stream",
     "text": [
      "Successfully saved 91 in jpg format.\n"
     ]
    },
    {
     "name": "stderr",
     "output_type": "stream",
     "text": [
      "/Library/Frameworks/Python.framework/Versions/3.12/lib/python3.12/site-packages/urllib3/connectionpool.py:1099: InsecureRequestWarning: Unverified HTTPS request is being made to host 'akm-img-a-in.tosshub.com'. Adding certificate verification is strongly advised. See: https://urllib3.readthedocs.io/en/latest/advanced-usage.html#tls-warnings\n",
      "  warnings.warn(\n",
      "Scraping gaza_israel images:  91%|█████████ | 59/65 [00:59<00:03,  1.50it/s]"
     ]
    },
    {
     "name": "stdout",
     "output_type": "stream",
     "text": [
      "Successfully saved 92 in jpg format.\n"
     ]
    },
    {
     "name": "stderr",
     "output_type": "stream",
     "text": [
      "/Library/Frameworks/Python.framework/Versions/3.12/lib/python3.12/site-packages/urllib3/connectionpool.py:1099: InsecureRequestWarning: Unverified HTTPS request is being made to host 'image.cnbcfm.com'. Adding certificate verification is strongly advised. See: https://urllib3.readthedocs.io/en/latest/advanced-usage.html#tls-warnings\n",
      "  warnings.warn(\n",
      "Scraping gaza_israel images:  92%|█████████▏| 60/65 [01:00<00:03,  1.38it/s]"
     ]
    },
    {
     "name": "stdout",
     "output_type": "stream",
     "text": [
      "Successfully saved 93 in jpg format.\n"
     ]
    },
    {
     "name": "stderr",
     "output_type": "stream",
     "text": [
      "/Library/Frameworks/Python.framework/Versions/3.12/lib/python3.12/site-packages/urllib3/connectionpool.py:1099: InsecureRequestWarning: Unverified HTTPS request is being made to host 'www.arabnews.com'. Adding certificate verification is strongly advised. See: https://urllib3.readthedocs.io/en/latest/advanced-usage.html#tls-warnings\n",
      "  warnings.warn(\n",
      "Scraping gaza_israel images:  94%|█████████▍| 61/65 [01:01<00:02,  1.43it/s]"
     ]
    },
    {
     "name": "stdout",
     "output_type": "stream",
     "text": [
      "Successfully saved 94 in jpg format.\n"
     ]
    },
    {
     "name": "stderr",
     "output_type": "stream",
     "text": [
      "/Library/Frameworks/Python.framework/Versions/3.12/lib/python3.12/site-packages/urllib3/connectionpool.py:1099: InsecureRequestWarning: Unverified HTTPS request is being made to host 'media.cnn.com'. Adding certificate verification is strongly advised. See: https://urllib3.readthedocs.io/en/latest/advanced-usage.html#tls-warnings\n",
      "  warnings.warn(\n",
      "Scraping gaza_israel images:  95%|█████████▌| 62/65 [01:01<00:02,  1.36it/s]"
     ]
    },
    {
     "name": "stdout",
     "output_type": "stream",
     "text": [
      "Successfully saved 95 in jpg format.\n"
     ]
    },
    {
     "name": "stderr",
     "output_type": "stream",
     "text": [
      "/Library/Frameworks/Python.framework/Versions/3.12/lib/python3.12/site-packages/urllib3/connectionpool.py:1099: InsecureRequestWarning: Unverified HTTPS request is being made to host 'assets.misbar.com'. Adding certificate verification is strongly advised. See: https://urllib3.readthedocs.io/en/latest/advanced-usage.html#tls-warnings\n",
      "  warnings.warn(\n",
      "Scraping gaza_israel images:  97%|█████████▋| 63/65 [01:02<00:01,  1.51it/s]"
     ]
    },
    {
     "name": "stdout",
     "output_type": "stream",
     "text": [
      "Successfully saved 96 in jpg format.\n"
     ]
    },
    {
     "name": "stderr",
     "output_type": "stream",
     "text": [
      "/Library/Frameworks/Python.framework/Versions/3.12/lib/python3.12/site-packages/urllib3/connectionpool.py:1099: InsecureRequestWarning: Unverified HTTPS request is being made to host 'pbs.twimg.com'. Adding certificate verification is strongly advised. See: https://urllib3.readthedocs.io/en/latest/advanced-usage.html#tls-warnings\n",
      "  warnings.warn(\n",
      "Scraping gaza_israel images:  98%|█████████▊| 64/65 [01:03<00:00,  1.48it/s]"
     ]
    },
    {
     "name": "stdout",
     "output_type": "stream",
     "text": [
      "Successfully saved 98 in jpg format.\n"
     ]
    },
    {
     "name": "stderr",
     "output_type": "stream",
     "text": [
      "/Library/Frameworks/Python.framework/Versions/3.12/lib/python3.12/site-packages/urllib3/connectionpool.py:1099: InsecureRequestWarning: Unverified HTTPS request is being made to host 'web.archive.org'. Adding certificate verification is strongly advised. See: https://urllib3.readthedocs.io/en/latest/advanced-usage.html#tls-warnings\n",
      "  warnings.warn(\n",
      "Scraping gaza_israel images: 100%|██████████| 65/65 [01:04<00:00,  1.01it/s]"
     ]
    },
    {
     "name": "stdout",
     "output_type": "stream",
     "text": [
      "Successfully saved 99 in jpg format.\n"
     ]
    },
    {
     "name": "stderr",
     "output_type": "stream",
     "text": [
      "\n"
     ]
    }
   ],
   "source": [
    "df_gaza_israel_with_image_paths = scrape_images(df=df_gaza_israel, base_folder=\"images\", topic = \"gaza_israel\")"
   ]
  },
  {
   "cell_type": "code",
   "execution_count": 19,
   "metadata": {},
   "outputs": [
    {
     "name": "stdout",
     "output_type": "stream",
     "text": [
      "35\n",
      "Images with paths: 65\n",
      "Images with URLs: 65\n",
      "Failed scrapes: 0\n"
     ]
    }
   ],
   "source": [
    "#check new df with image path\n",
    "\n",
    "df_gaza_israel_with_image_paths.head()\n",
    "\n",
    "\n",
    "## check that all images were successfully scraped (there are 65 images in the df)\n",
    "\n",
    "print(df_gaza_israel_with_image_paths[\"Image_Path\"].isna().sum()) ## should be 35\n",
    "\n",
    "\n",
    "# Quick verification\n",
    "print(f\"Images with paths: {df_gaza_israel_with_image_paths['Image_Path'].notna().sum()}\")\n",
    "print(f\"Images with URLs: {df_gaza_israel_with_image_paths['Image_URL'].notna().sum()}\")\n",
    "\n",
    "# Check if any paths are missing\n",
    "missing_images = df_gaza_israel_with_image_paths[\n",
    "    (df_gaza_israel_with_image_paths['Image_URL'].notna()) & \n",
    "    (df_gaza_israel_with_image_paths['Image_Path'].isna())\n",
    "]\n",
    "print(f\"Failed scrapes: {len(missing_images)}\")"
   ]
  },
  {
   "cell_type": "code",
   "execution_count": 41,
   "metadata": {},
   "outputs": [
    {
     "data": {
      "text/html": [
       "<div>\n",
       "<style scoped>\n",
       "    .dataframe tbody tr th:only-of-type {\n",
       "        vertical-align: middle;\n",
       "    }\n",
       "\n",
       "    .dataframe tbody tr th {\n",
       "        vertical-align: top;\n",
       "    }\n",
       "\n",
       "    .dataframe thead th {\n",
       "        text-align: right;\n",
       "    }\n",
       "</style>\n",
       "<table border=\"1\" class=\"dataframe\">\n",
       "  <thead>\n",
       "    <tr style=\"text-align: right;\">\n",
       "      <th></th>\n",
       "      <th>id</th>\n",
       "      <th>Website</th>\n",
       "      <th>Article_URL</th>\n",
       "      <th>Headline</th>\n",
       "      <th>Claim_Date</th>\n",
       "      <th>Review_Date</th>\n",
       "      <th>Query/Keyword</th>\n",
       "      <th>Original_Claim_Website</th>\n",
       "      <th>Original_Claim_Only</th>\n",
       "      <th>Claim</th>\n",
       "      <th>Image_URL</th>\n",
       "      <th>Image_Path</th>\n",
       "      <th>Label_Website</th>\n",
       "      <th>Label</th>\n",
       "      <th>Context/Label_Explanation</th>\n",
       "      <th>Text_Only_Claim</th>\n",
       "      <th>Normal_Image</th>\n",
       "      <th>AI_Generated_Image</th>\n",
       "      <th>Altered_Image</th>\n",
       "      <th>Data_Collection_Type</th>\n",
       "    </tr>\n",
       "  </thead>\n",
       "  <tbody>\n",
       "    <tr>\n",
       "      <th>0</th>\n",
       "      <td>0</td>\n",
       "      <td>AFP Factcheck</td>\n",
       "      <td>https://factcheck.afp.com/doc.afp.com.42JE3T2</td>\n",
       "      <td>False claims about US general being killed in ...</td>\n",
       "      <td>2025-04-06 0:00:00</td>\n",
       "      <td>2025-04-17 0:00:00</td>\n",
       "      <td>Israeli-Palestinian conflict</td>\n",
       "      <td>\"BREAKING: Reports confirm the death of Genera...</td>\n",
       "      <td>\"BREAKING: Reports confirm the death of Genera...</td>\n",
       "      <td>This image shows General John Pagri, Commander...</td>\n",
       "      <td>https://pbs.twimg.com/media/Gn4wjgBXoAALax1?fo...</td>\n",
       "      <td>images/gaza_israel/0.jpg</td>\n",
       "      <td>FALSE</td>\n",
       "      <td>False</td>\n",
       "      <td>A reverse image search reveals the photograph ...</td>\n",
       "      <td>False</td>\n",
       "      <td>True</td>\n",
       "      <td>False</td>\n",
       "      <td>False</td>\n",
       "      <td>Manual</td>\n",
       "    </tr>\n",
       "    <tr>\n",
       "      <th>1</th>\n",
       "      <td>1</td>\n",
       "      <td>AFP Factcheck</td>\n",
       "      <td>https://factcheck.afp.com/doc.afp.com.39432WD</td>\n",
       "      <td>Pictures show Gaza in ruins, not Myanmar quake...</td>\n",
       "      <td>2025-03-29 0:00:00</td>\n",
       "      <td>2025-04-17 0:00:00</td>\n",
       "      <td>Israeli-Palestinian conflict</td>\n",
       "      <td>\"A 7.9-magnitude earthquake in Myanmar, devast...</td>\n",
       "      <td>\"A 7.9-magnitude earthquake in Myanmar, devast...</td>\n",
       "      <td>This image shows the ruins after a 7.9-magnitu...</td>\n",
       "      <td>https://web.archive.org/web/20250402070342im_/...</td>\n",
       "      <td>images/gaza_israel/1.jpg</td>\n",
       "      <td>FALSE</td>\n",
       "      <td>False</td>\n",
       "      <td>However, a reverse image search for the first ...</td>\n",
       "      <td>False</td>\n",
       "      <td>True</td>\n",
       "      <td>False</td>\n",
       "      <td>False</td>\n",
       "      <td>Manual</td>\n",
       "    </tr>\n",
       "    <tr>\n",
       "      <th>2</th>\n",
       "      <td>2</td>\n",
       "      <td>AFP Factcheck</td>\n",
       "      <td>https://factcheck.afp.com/doc.afp.com.37W26WD</td>\n",
       "      <td>Image of 'Gazan mother with son's bones' is ma...</td>\n",
       "      <td>2025-03-24 0:00:00</td>\n",
       "      <td>2025-03-27 0:00:00</td>\n",
       "      <td>Israeli-Palestinian conflict</td>\n",
       "      <td>\"A mother holds the bones of her son in Gaza. ...</td>\n",
       "      <td>\"A mother holds the bones of her son in Gaza. ...</td>\n",
       "      <td>This is an authentic image of a mother holding...</td>\n",
       "      <td>https://web.archive.org/web/20250527092039/htt...</td>\n",
       "      <td>images/gaza_israel/2.jpg</td>\n",
       "      <td>FALSE</td>\n",
       "      <td>False</td>\n",
       "      <td>A keyword search found a wider-angle version o...</td>\n",
       "      <td>False</td>\n",
       "      <td>False</td>\n",
       "      <td>True</td>\n",
       "      <td>False</td>\n",
       "      <td>Manual</td>\n",
       "    </tr>\n",
       "    <tr>\n",
       "      <th>3</th>\n",
       "      <td>3</td>\n",
       "      <td>AFP Factcheck</td>\n",
       "      <td>https://factcheck.afp.com/doc.afp.com.36XY2FV</td>\n",
       "      <td>Old image misrepresented as 'Israeli settlers'...</td>\n",
       "      <td>2025-02-16 0:00:00</td>\n",
       "      <td>2025-02-19 0:00:00</td>\n",
       "      <td>Israeli-Palestinian conflict</td>\n",
       "      <td>\"Israeli media reports there are Jews who have...</td>\n",
       "      <td>\"Israeli media reports there are Jews who have...</td>\n",
       "      <td>This image shows Israelis who have stopped fig...</td>\n",
       "      <td>https://pbs.twimg.com/media/Gj5tbXiaQAAoG1z?fo...</td>\n",
       "      <td>images/gaza_israel/3.jpg</td>\n",
       "      <td>FALSE</td>\n",
       "      <td>False</td>\n",
       "      <td>A reverse image search via Google traced the v...</td>\n",
       "      <td>False</td>\n",
       "      <td>True</td>\n",
       "      <td>False</td>\n",
       "      <td>False</td>\n",
       "      <td>Manual</td>\n",
       "    </tr>\n",
       "    <tr>\n",
       "      <th>4</th>\n",
       "      <td>4</td>\n",
       "      <td>AFP Factcheck</td>\n",
       "      <td>https://factcheck.afp.com/doc.afp.com.36RF6BZ</td>\n",
       "      <td>Picture shows Israel's 2018 Gaza attack, not a...</td>\n",
       "      <td>2024-12-22 0:00:00</td>\n",
       "      <td>2024-12-26 0:00:00</td>\n",
       "      <td>Israeli-Palestinian conflict</td>\n",
       "      <td>\"Americans bombarded Yemen in reprisal after Y...</td>\n",
       "      <td>\"Americans bombarded Yemen in reprisal after Y...</td>\n",
       "      <td>This image shows the U.S. bombarding Yemen on ...</td>\n",
       "      <td>https://media.gettyimages.com/id/1060718622/de...</td>\n",
       "      <td>images/gaza_israel/4.jpg</td>\n",
       "      <td>FALSE</td>\n",
       "      <td>False</td>\n",
       "      <td>But a reverse image search on Google found the...</td>\n",
       "      <td>False</td>\n",
       "      <td>True</td>\n",
       "      <td>False</td>\n",
       "      <td>False</td>\n",
       "      <td>Manual</td>\n",
       "    </tr>\n",
       "  </tbody>\n",
       "</table>\n",
       "</div>"
      ],
      "text/plain": [
       "   id        Website                                    Article_URL  \\\n",
       "0   0  AFP Factcheck  https://factcheck.afp.com/doc.afp.com.42JE3T2   \n",
       "1   1  AFP Factcheck  https://factcheck.afp.com/doc.afp.com.39432WD   \n",
       "2   2  AFP Factcheck  https://factcheck.afp.com/doc.afp.com.37W26WD   \n",
       "3   3  AFP Factcheck  https://factcheck.afp.com/doc.afp.com.36XY2FV   \n",
       "4   4  AFP Factcheck  https://factcheck.afp.com/doc.afp.com.36RF6BZ   \n",
       "\n",
       "                                            Headline          Claim_Date  \\\n",
       "0  False claims about US general being killed in ...  2025-04-06 0:00:00   \n",
       "1  Pictures show Gaza in ruins, not Myanmar quake...  2025-03-29 0:00:00   \n",
       "2  Image of 'Gazan mother with son's bones' is ma...  2025-03-24 0:00:00   \n",
       "3  Old image misrepresented as 'Israeli settlers'...  2025-02-16 0:00:00   \n",
       "4  Picture shows Israel's 2018 Gaza attack, not a...  2024-12-22 0:00:00   \n",
       "\n",
       "          Review_Date                 Query/Keyword  \\\n",
       "0  2025-04-17 0:00:00  Israeli-Palestinian conflict   \n",
       "1  2025-04-17 0:00:00  Israeli-Palestinian conflict   \n",
       "2  2025-03-27 0:00:00  Israeli-Palestinian conflict   \n",
       "3  2025-02-19 0:00:00  Israeli-Palestinian conflict   \n",
       "4  2024-12-26 0:00:00  Israeli-Palestinian conflict   \n",
       "\n",
       "                              Original_Claim_Website  \\\n",
       "0  \"BREAKING: Reports confirm the death of Genera...   \n",
       "1  \"A 7.9-magnitude earthquake in Myanmar, devast...   \n",
       "2  \"A mother holds the bones of her son in Gaza. ...   \n",
       "3  \"Israeli media reports there are Jews who have...   \n",
       "4  \"Americans bombarded Yemen in reprisal after Y...   \n",
       "\n",
       "                                 Original_Claim_Only  \\\n",
       "0  \"BREAKING: Reports confirm the death of Genera...   \n",
       "1  \"A 7.9-magnitude earthquake in Myanmar, devast...   \n",
       "2  \"A mother holds the bones of her son in Gaza. ...   \n",
       "3  \"Israeli media reports there are Jews who have...   \n",
       "4  \"Americans bombarded Yemen in reprisal after Y...   \n",
       "\n",
       "                                               Claim  \\\n",
       "0  This image shows General John Pagri, Commander...   \n",
       "1  This image shows the ruins after a 7.9-magnitu...   \n",
       "2  This is an authentic image of a mother holding...   \n",
       "3  This image shows Israelis who have stopped fig...   \n",
       "4  This image shows the U.S. bombarding Yemen on ...   \n",
       "\n",
       "                                           Image_URL  \\\n",
       "0  https://pbs.twimg.com/media/Gn4wjgBXoAALax1?fo...   \n",
       "1  https://web.archive.org/web/20250402070342im_/...   \n",
       "2  https://web.archive.org/web/20250527092039/htt...   \n",
       "3  https://pbs.twimg.com/media/Gj5tbXiaQAAoG1z?fo...   \n",
       "4  https://media.gettyimages.com/id/1060718622/de...   \n",
       "\n",
       "                 Image_Path Label_Website  Label  \\\n",
       "0  images/gaza_israel/0.jpg         FALSE  False   \n",
       "1  images/gaza_israel/1.jpg         FALSE  False   \n",
       "2  images/gaza_israel/2.jpg         FALSE  False   \n",
       "3  images/gaza_israel/3.jpg         FALSE  False   \n",
       "4  images/gaza_israel/4.jpg         FALSE  False   \n",
       "\n",
       "                           Context/Label_Explanation  Text_Only_Claim  \\\n",
       "0  A reverse image search reveals the photograph ...            False   \n",
       "1  However, a reverse image search for the first ...            False   \n",
       "2  A keyword search found a wider-angle version o...            False   \n",
       "3  A reverse image search via Google traced the v...            False   \n",
       "4  But a reverse image search on Google found the...            False   \n",
       "\n",
       "   Normal_Image  AI_Generated_Image  Altered_Image Data_Collection_Type  \n",
       "0          True               False          False               Manual  \n",
       "1          True               False          False               Manual  \n",
       "2         False                True          False               Manual  \n",
       "3          True               False          False               Manual  \n",
       "4          True               False          False               Manual  "
      ]
     },
     "execution_count": 41,
     "metadata": {},
     "output_type": "execute_result"
    }
   ],
   "source": [
    "### Reorder the columns before saving the final gaza_israel df\n",
    "\n",
    "df_gaza_israel_with_image_paths.head()\n",
    "\n",
    "\n",
    "\n",
    "# reorder columns\n",
    "\n",
    "new_column_order = [\n",
    "    'id', \n",
    "    'Website', \n",
    "    'Article_URL', \n",
    "    'Headline', \n",
    "    'Claim_Date', \n",
    "    'Review_Date', \n",
    "    'Query/Keyword',\n",
    "    'Original_Claim_Website',  \n",
    "    'Original_Claim_Only',\n",
    "    'Claim',\n",
    "    'Image_URL',\n",
    "    'Image_Path',\n",
    "    'Label_Website',\n",
    "    'Label',\n",
    "    'Context/Label_Explanation', \n",
    "    'Text_Only_Claim', \n",
    "    'Normal_Image', \n",
    "    'AI_Generated_Image', \n",
    "    'Altered_Image',\n",
    "    'Data_Collection_Type'\n",
    "]\n",
    "\n",
    "df_gaza_israel_final = df_gaza_israel_with_image_paths[new_column_order]\n",
    "\n",
    "\n",
    "df_gaza_israel_final.head()"
   ]
  },
  {
   "cell_type": "code",
   "execution_count": 42,
   "metadata": {},
   "outputs": [
    {
     "data": {
      "text/html": [
       "<div>\n",
       "<style scoped>\n",
       "    .dataframe tbody tr th:only-of-type {\n",
       "        vertical-align: middle;\n",
       "    }\n",
       "\n",
       "    .dataframe tbody tr th {\n",
       "        vertical-align: top;\n",
       "    }\n",
       "\n",
       "    .dataframe thead th {\n",
       "        text-align: right;\n",
       "    }\n",
       "</style>\n",
       "<table border=\"1\" class=\"dataframe\">\n",
       "  <thead>\n",
       "    <tr style=\"text-align: right;\">\n",
       "      <th></th>\n",
       "      <th>id</th>\n",
       "      <th>Website</th>\n",
       "      <th>Article_URL</th>\n",
       "      <th>Headline</th>\n",
       "      <th>Claim_Date</th>\n",
       "      <th>Review_Date</th>\n",
       "      <th>Query/Keyword</th>\n",
       "      <th>Original_Claim_Website</th>\n",
       "      <th>Original_Claim_Only</th>\n",
       "      <th>Claim</th>\n",
       "      <th>Image_URL</th>\n",
       "      <th>Image_Path</th>\n",
       "      <th>Label_Website</th>\n",
       "      <th>Label</th>\n",
       "      <th>Context/Label_Explanation</th>\n",
       "      <th>Text_Only_Claim</th>\n",
       "      <th>Normal_Image</th>\n",
       "      <th>AI_Generated_Image</th>\n",
       "      <th>Altered_Image</th>\n",
       "      <th>Data_Collection_Type</th>\n",
       "    </tr>\n",
       "  </thead>\n",
       "  <tbody>\n",
       "    <tr>\n",
       "      <th>0</th>\n",
       "      <td>0</td>\n",
       "      <td>AFP Factcheck</td>\n",
       "      <td>https://factcheck.afp.com/doc.afp.com.42JE3T2</td>\n",
       "      <td>False claims about US general being killed in ...</td>\n",
       "      <td>2025-04-06 0:00:00</td>\n",
       "      <td>2025-04-17 0:00:00</td>\n",
       "      <td>Israeli-Palestinian conflict</td>\n",
       "      <td>\"BREAKING: Reports confirm the death of Genera...</td>\n",
       "      <td>\"BREAKING: Reports confirm the death of Genera...</td>\n",
       "      <td>This image shows General John Pagri, Commander...</td>\n",
       "      <td>https://pbs.twimg.com/media/Gn4wjgBXoAALax1?fo...</td>\n",
       "      <td>images/gaza_israel/0.jpg</td>\n",
       "      <td>FALSE</td>\n",
       "      <td>False</td>\n",
       "      <td>A reverse image search reveals the photograph ...</td>\n",
       "      <td>False</td>\n",
       "      <td>True</td>\n",
       "      <td>False</td>\n",
       "      <td>False</td>\n",
       "      <td>Manual</td>\n",
       "    </tr>\n",
       "    <tr>\n",
       "      <th>1</th>\n",
       "      <td>1</td>\n",
       "      <td>AFP Factcheck</td>\n",
       "      <td>https://factcheck.afp.com/doc.afp.com.39432WD</td>\n",
       "      <td>Pictures show Gaza in ruins, not Myanmar quake...</td>\n",
       "      <td>2025-03-29 0:00:00</td>\n",
       "      <td>2025-04-17 0:00:00</td>\n",
       "      <td>Israeli-Palestinian conflict</td>\n",
       "      <td>\"A 7.9-magnitude earthquake in Myanmar, devast...</td>\n",
       "      <td>\"A 7.9-magnitude earthquake in Myanmar, devast...</td>\n",
       "      <td>This image shows the ruins after a 7.9-magnitu...</td>\n",
       "      <td>https://web.archive.org/web/20250402070342im_/...</td>\n",
       "      <td>images/gaza_israel/1.jpg</td>\n",
       "      <td>FALSE</td>\n",
       "      <td>False</td>\n",
       "      <td>However, a reverse image search for the first ...</td>\n",
       "      <td>False</td>\n",
       "      <td>True</td>\n",
       "      <td>False</td>\n",
       "      <td>False</td>\n",
       "      <td>Manual</td>\n",
       "    </tr>\n",
       "    <tr>\n",
       "      <th>2</th>\n",
       "      <td>2</td>\n",
       "      <td>AFP Factcheck</td>\n",
       "      <td>https://factcheck.afp.com/doc.afp.com.37W26WD</td>\n",
       "      <td>Image of 'Gazan mother with son's bones' is ma...</td>\n",
       "      <td>2025-03-24 0:00:00</td>\n",
       "      <td>2025-03-27 0:00:00</td>\n",
       "      <td>Israeli-Palestinian conflict</td>\n",
       "      <td>\"A mother holds the bones of her son in Gaza. ...</td>\n",
       "      <td>\"A mother holds the bones of her son in Gaza. ...</td>\n",
       "      <td>This is an authentic image of a mother holding...</td>\n",
       "      <td>https://web.archive.org/web/20250527092039/htt...</td>\n",
       "      <td>images/gaza_israel/2.jpg</td>\n",
       "      <td>FALSE</td>\n",
       "      <td>False</td>\n",
       "      <td>A keyword search found a wider-angle version o...</td>\n",
       "      <td>False</td>\n",
       "      <td>False</td>\n",
       "      <td>True</td>\n",
       "      <td>False</td>\n",
       "      <td>Manual</td>\n",
       "    </tr>\n",
       "    <tr>\n",
       "      <th>3</th>\n",
       "      <td>3</td>\n",
       "      <td>AFP Factcheck</td>\n",
       "      <td>https://factcheck.afp.com/doc.afp.com.36XY2FV</td>\n",
       "      <td>Old image misrepresented as 'Israeli settlers'...</td>\n",
       "      <td>2025-02-16 0:00:00</td>\n",
       "      <td>2025-02-19 0:00:00</td>\n",
       "      <td>Israeli-Palestinian conflict</td>\n",
       "      <td>\"Israeli media reports there are Jews who have...</td>\n",
       "      <td>\"Israeli media reports there are Jews who have...</td>\n",
       "      <td>This image shows Israelis who have stopped fig...</td>\n",
       "      <td>https://pbs.twimg.com/media/Gj5tbXiaQAAoG1z?fo...</td>\n",
       "      <td>images/gaza_israel/3.jpg</td>\n",
       "      <td>FALSE</td>\n",
       "      <td>False</td>\n",
       "      <td>A reverse image search via Google traced the v...</td>\n",
       "      <td>False</td>\n",
       "      <td>True</td>\n",
       "      <td>False</td>\n",
       "      <td>False</td>\n",
       "      <td>Manual</td>\n",
       "    </tr>\n",
       "    <tr>\n",
       "      <th>4</th>\n",
       "      <td>4</td>\n",
       "      <td>AFP Factcheck</td>\n",
       "      <td>https://factcheck.afp.com/doc.afp.com.36RF6BZ</td>\n",
       "      <td>Picture shows Israel's 2018 Gaza attack, not a...</td>\n",
       "      <td>2024-12-22 0:00:00</td>\n",
       "      <td>2024-12-26 0:00:00</td>\n",
       "      <td>Israeli-Palestinian conflict</td>\n",
       "      <td>\"Americans bombarded Yemen in reprisal after Y...</td>\n",
       "      <td>\"Americans bombarded Yemen in reprisal after Y...</td>\n",
       "      <td>This image shows the U.S. bombarding Yemen on ...</td>\n",
       "      <td>https://media.gettyimages.com/id/1060718622/de...</td>\n",
       "      <td>images/gaza_israel/4.jpg</td>\n",
       "      <td>FALSE</td>\n",
       "      <td>False</td>\n",
       "      <td>But a reverse image search on Google found the...</td>\n",
       "      <td>False</td>\n",
       "      <td>True</td>\n",
       "      <td>False</td>\n",
       "      <td>False</td>\n",
       "      <td>Manual</td>\n",
       "    </tr>\n",
       "    <tr>\n",
       "      <th>...</th>\n",
       "      <td>...</td>\n",
       "      <td>...</td>\n",
       "      <td>...</td>\n",
       "      <td>...</td>\n",
       "      <td>...</td>\n",
       "      <td>...</td>\n",
       "      <td>...</td>\n",
       "      <td>...</td>\n",
       "      <td>...</td>\n",
       "      <td>...</td>\n",
       "      <td>...</td>\n",
       "      <td>...</td>\n",
       "      <td>...</td>\n",
       "      <td>...</td>\n",
       "      <td>...</td>\n",
       "      <td>...</td>\n",
       "      <td>...</td>\n",
       "      <td>...</td>\n",
       "      <td>...</td>\n",
       "      <td>...</td>\n",
       "    </tr>\n",
       "    <tr>\n",
       "      <th>95</th>\n",
       "      <td>95</td>\n",
       "      <td>logicallyfacts.com</td>\n",
       "      <td>https://www.logicallyfacts.com/en/fact-check/f...</td>\n",
       "      <td>No, photo doesn’t show Gaza man holding hand o...</td>\n",
       "      <td>2024-07-14 00:00:00+00:00</td>\n",
       "      <td>2024-07-16 00:00:00+00:00</td>\n",
       "      <td>Israel</td>\n",
       "      <td>NaN</td>\n",
       "      <td>This photo shows a man from Gaza holding the h...</td>\n",
       "      <td>This image shows a man from Gaza holding the h...</td>\n",
       "      <td>https://media.cnn.com/api/v1/images/stellar/pr...</td>\n",
       "      <td>images/gaza_israel/95.jpg</td>\n",
       "      <td>FALSE</td>\n",
       "      <td>False</td>\n",
       "      <td>Upon conducting a reverse image search, we fo...</td>\n",
       "      <td>False</td>\n",
       "      <td>True</td>\n",
       "      <td>False</td>\n",
       "      <td>False</td>\n",
       "      <td>API</td>\n",
       "    </tr>\n",
       "    <tr>\n",
       "      <th>96</th>\n",
       "      <td>96</td>\n",
       "      <td>misbar.com</td>\n",
       "      <td>https://www.misbar.com/en/factcheck/2024/07/15...</td>\n",
       "      <td>Israel Tragically Killed the Hamida Siblings i...</td>\n",
       "      <td>2024-07-15 00:00:00+00:00</td>\n",
       "      <td>2024-07-15 00:00:00+00:00</td>\n",
       "      <td>Israel</td>\n",
       "      <td>NaN</td>\n",
       "      <td>Mayar Hamida (9 years old) and Bilal Hamida (6...</td>\n",
       "      <td>This image shows Mayar Hamida (9 years old) an...</td>\n",
       "      <td>https://assets.misbar.com/styles/large_870x490...</td>\n",
       "      <td>images/gaza_israel/96.jpg</td>\n",
       "      <td>misleading</td>\n",
       "      <td>Misleading</td>\n",
       "      <td>Israel Killed the Two Siblings in October 202...</td>\n",
       "      <td>False</td>\n",
       "      <td>True</td>\n",
       "      <td>False</td>\n",
       "      <td>False</td>\n",
       "      <td>API</td>\n",
       "    </tr>\n",
       "    <tr>\n",
       "      <th>97</th>\n",
       "      <td>97</td>\n",
       "      <td>usatoday.com</td>\n",
       "      <td>https://www.usatoday.com/story/news/factcheck/...</td>\n",
       "      <td>False claim Americans drafted for Israel-Hamas...</td>\n",
       "      <td>2024-07-09 00:00:00+00:00</td>\n",
       "      <td>2024-07-12 00:00:00+00:00</td>\n",
       "      <td>Israel</td>\n",
       "      <td>NaN</td>\n",
       "      <td>US reinstituted draft for Israel-Hamas war</td>\n",
       "      <td>The US reinstituted draft in 2024 for the Isra...</td>\n",
       "      <td>NaN</td>\n",
       "      <td>None</td>\n",
       "      <td>FALSE</td>\n",
       "      <td>False</td>\n",
       "      <td>The U.S. is not conscripting Americans into t...</td>\n",
       "      <td>True</td>\n",
       "      <td>False</td>\n",
       "      <td>False</td>\n",
       "      <td>False</td>\n",
       "      <td>API</td>\n",
       "    </tr>\n",
       "    <tr>\n",
       "      <th>98</th>\n",
       "      <td>98</td>\n",
       "      <td>logicallyfacts.com</td>\n",
       "      <td>https://www.logicallyfacts.com/en/fact-check/f...</td>\n",
       "      <td>AI image of Dwayne Johnson shared to claim tha...</td>\n",
       "      <td>2024-07-20 00:00:00+00:00</td>\n",
       "      <td>2024-07-11 00:00:00+00:00</td>\n",
       "      <td>Israel</td>\n",
       "      <td>NaN</td>\n",
       "      <td>The image shows Dwayne Johnson wearing Israeli...</td>\n",
       "      <td>This is an authentic image of Dwayne Johnson w...</td>\n",
       "      <td>https://pbs.twimg.com/media/F-GfaZzWMAAmsmm?fo...</td>\n",
       "      <td>images/gaza_israel/98.jpg</td>\n",
       "      <td>fake</td>\n",
       "      <td>False</td>\n",
       "      <td>A close look at the image showed several disc...</td>\n",
       "      <td>False</td>\n",
       "      <td>False</td>\n",
       "      <td>True</td>\n",
       "      <td>False</td>\n",
       "      <td>API</td>\n",
       "    </tr>\n",
       "    <tr>\n",
       "      <th>99</th>\n",
       "      <td>99</td>\n",
       "      <td>newsmeter.in</td>\n",
       "      <td>https://newsmeter.in/fact-check/ai-photo-of-is...</td>\n",
       "      <td>Fact Check: AI photo of Israeli Army dog attac...</td>\n",
       "      <td>2024-07-04 00:00:00+00:00</td>\n",
       "      <td>2024-07-04 00:00:00+00:00</td>\n",
       "      <td>Israel</td>\n",
       "      <td>NaN</td>\n",
       "      <td>A photo shows an elderly Palestinian woman bei...</td>\n",
       "      <td>This is an authentic image of an elderly Pales...</td>\n",
       "      <td>https://web.archive.org/web/20250527091713/htt...</td>\n",
       "      <td>images/gaza_israel/99.jpg</td>\n",
       "      <td>misleading</td>\n",
       "      <td>Misleading</td>\n",
       "      <td>NewsMeter found that claim is misleading. The...</td>\n",
       "      <td>False</td>\n",
       "      <td>False</td>\n",
       "      <td>True</td>\n",
       "      <td>False</td>\n",
       "      <td>API</td>\n",
       "    </tr>\n",
       "  </tbody>\n",
       "</table>\n",
       "<p>100 rows × 20 columns</p>\n",
       "</div>"
      ],
      "text/plain": [
       "    id             Website                                        Article_URL  \\\n",
       "0    0       AFP Factcheck      https://factcheck.afp.com/doc.afp.com.42JE3T2   \n",
       "1    1       AFP Factcheck      https://factcheck.afp.com/doc.afp.com.39432WD   \n",
       "2    2       AFP Factcheck      https://factcheck.afp.com/doc.afp.com.37W26WD   \n",
       "3    3       AFP Factcheck      https://factcheck.afp.com/doc.afp.com.36XY2FV   \n",
       "4    4       AFP Factcheck      https://factcheck.afp.com/doc.afp.com.36RF6BZ   \n",
       "..  ..                 ...                                                ...   \n",
       "95  95  logicallyfacts.com  https://www.logicallyfacts.com/en/fact-check/f...   \n",
       "96  96          misbar.com  https://www.misbar.com/en/factcheck/2024/07/15...   \n",
       "97  97        usatoday.com  https://www.usatoday.com/story/news/factcheck/...   \n",
       "98  98  logicallyfacts.com  https://www.logicallyfacts.com/en/fact-check/f...   \n",
       "99  99        newsmeter.in  https://newsmeter.in/fact-check/ai-photo-of-is...   \n",
       "\n",
       "                                             Headline  \\\n",
       "0   False claims about US general being killed in ...   \n",
       "1   Pictures show Gaza in ruins, not Myanmar quake...   \n",
       "2   Image of 'Gazan mother with son's bones' is ma...   \n",
       "3   Old image misrepresented as 'Israeli settlers'...   \n",
       "4   Picture shows Israel's 2018 Gaza attack, not a...   \n",
       "..                                                ...   \n",
       "95  No, photo doesn’t show Gaza man holding hand o...   \n",
       "96  Israel Tragically Killed the Hamida Siblings i...   \n",
       "97  False claim Americans drafted for Israel-Hamas...   \n",
       "98  AI image of Dwayne Johnson shared to claim tha...   \n",
       "99  Fact Check: AI photo of Israeli Army dog attac...   \n",
       "\n",
       "                   Claim_Date                Review_Date  \\\n",
       "0          2025-04-06 0:00:00         2025-04-17 0:00:00   \n",
       "1          2025-03-29 0:00:00         2025-04-17 0:00:00   \n",
       "2          2025-03-24 0:00:00         2025-03-27 0:00:00   \n",
       "3          2025-02-16 0:00:00         2025-02-19 0:00:00   \n",
       "4          2024-12-22 0:00:00         2024-12-26 0:00:00   \n",
       "..                        ...                        ...   \n",
       "95  2024-07-14 00:00:00+00:00  2024-07-16 00:00:00+00:00   \n",
       "96  2024-07-15 00:00:00+00:00  2024-07-15 00:00:00+00:00   \n",
       "97  2024-07-09 00:00:00+00:00  2024-07-12 00:00:00+00:00   \n",
       "98  2024-07-20 00:00:00+00:00  2024-07-11 00:00:00+00:00   \n",
       "99  2024-07-04 00:00:00+00:00  2024-07-04 00:00:00+00:00   \n",
       "\n",
       "                   Query/Keyword  \\\n",
       "0   Israeli-Palestinian conflict   \n",
       "1   Israeli-Palestinian conflict   \n",
       "2   Israeli-Palestinian conflict   \n",
       "3   Israeli-Palestinian conflict   \n",
       "4   Israeli-Palestinian conflict   \n",
       "..                           ...   \n",
       "95                        Israel   \n",
       "96                        Israel   \n",
       "97                        Israel   \n",
       "98                        Israel   \n",
       "99                        Israel   \n",
       "\n",
       "                               Original_Claim_Website  \\\n",
       "0   \"BREAKING: Reports confirm the death of Genera...   \n",
       "1   \"A 7.9-magnitude earthquake in Myanmar, devast...   \n",
       "2   \"A mother holds the bones of her son in Gaza. ...   \n",
       "3   \"Israeli media reports there are Jews who have...   \n",
       "4   \"Americans bombarded Yemen in reprisal after Y...   \n",
       "..                                                ...   \n",
       "95                                                NaN   \n",
       "96                                                NaN   \n",
       "97                                                NaN   \n",
       "98                                                NaN   \n",
       "99                                                NaN   \n",
       "\n",
       "                                  Original_Claim_Only  \\\n",
       "0   \"BREAKING: Reports confirm the death of Genera...   \n",
       "1   \"A 7.9-magnitude earthquake in Myanmar, devast...   \n",
       "2   \"A mother holds the bones of her son in Gaza. ...   \n",
       "3   \"Israeli media reports there are Jews who have...   \n",
       "4   \"Americans bombarded Yemen in reprisal after Y...   \n",
       "..                                                ...   \n",
       "95  This photo shows a man from Gaza holding the h...   \n",
       "96  Mayar Hamida (9 years old) and Bilal Hamida (6...   \n",
       "97         US reinstituted draft for Israel-Hamas war   \n",
       "98  The image shows Dwayne Johnson wearing Israeli...   \n",
       "99  A photo shows an elderly Palestinian woman bei...   \n",
       "\n",
       "                                                Claim  \\\n",
       "0   This image shows General John Pagri, Commander...   \n",
       "1   This image shows the ruins after a 7.9-magnitu...   \n",
       "2   This is an authentic image of a mother holding...   \n",
       "3   This image shows Israelis who have stopped fig...   \n",
       "4   This image shows the U.S. bombarding Yemen on ...   \n",
       "..                                                ...   \n",
       "95  This image shows a man from Gaza holding the h...   \n",
       "96  This image shows Mayar Hamida (9 years old) an...   \n",
       "97  The US reinstituted draft in 2024 for the Isra...   \n",
       "98  This is an authentic image of Dwayne Johnson w...   \n",
       "99  This is an authentic image of an elderly Pales...   \n",
       "\n",
       "                                            Image_URL  \\\n",
       "0   https://pbs.twimg.com/media/Gn4wjgBXoAALax1?fo...   \n",
       "1   https://web.archive.org/web/20250402070342im_/...   \n",
       "2   https://web.archive.org/web/20250527092039/htt...   \n",
       "3   https://pbs.twimg.com/media/Gj5tbXiaQAAoG1z?fo...   \n",
       "4   https://media.gettyimages.com/id/1060718622/de...   \n",
       "..                                                ...   \n",
       "95  https://media.cnn.com/api/v1/images/stellar/pr...   \n",
       "96  https://assets.misbar.com/styles/large_870x490...   \n",
       "97                                                NaN   \n",
       "98  https://pbs.twimg.com/media/F-GfaZzWMAAmsmm?fo...   \n",
       "99  https://web.archive.org/web/20250527091713/htt...   \n",
       "\n",
       "                   Image_Path Label_Website       Label  \\\n",
       "0    images/gaza_israel/0.jpg         FALSE       False   \n",
       "1    images/gaza_israel/1.jpg         FALSE       False   \n",
       "2    images/gaza_israel/2.jpg         FALSE       False   \n",
       "3    images/gaza_israel/3.jpg         FALSE       False   \n",
       "4    images/gaza_israel/4.jpg         FALSE       False   \n",
       "..                        ...           ...         ...   \n",
       "95  images/gaza_israel/95.jpg         FALSE       False   \n",
       "96  images/gaza_israel/96.jpg    misleading  Misleading   \n",
       "97                       None         FALSE       False   \n",
       "98  images/gaza_israel/98.jpg          fake       False   \n",
       "99  images/gaza_israel/99.jpg    misleading  Misleading   \n",
       "\n",
       "                            Context/Label_Explanation  Text_Only_Claim  \\\n",
       "0   A reverse image search reveals the photograph ...            False   \n",
       "1   However, a reverse image search for the first ...            False   \n",
       "2   A keyword search found a wider-angle version o...            False   \n",
       "3   A reverse image search via Google traced the v...            False   \n",
       "4   But a reverse image search on Google found the...            False   \n",
       "..                                                ...              ...   \n",
       "95   Upon conducting a reverse image search, we fo...            False   \n",
       "96   Israel Killed the Two Siblings in October 202...            False   \n",
       "97   The U.S. is not conscripting Americans into t...             True   \n",
       "98   A close look at the image showed several disc...            False   \n",
       "99   NewsMeter found that claim is misleading. The...            False   \n",
       "\n",
       "    Normal_Image  AI_Generated_Image  Altered_Image Data_Collection_Type  \n",
       "0           True               False          False               Manual  \n",
       "1           True               False          False               Manual  \n",
       "2          False                True          False               Manual  \n",
       "3           True               False          False               Manual  \n",
       "4           True               False          False               Manual  \n",
       "..           ...                 ...            ...                  ...  \n",
       "95          True               False          False                  API  \n",
       "96          True               False          False                  API  \n",
       "97         False               False          False                  API  \n",
       "98         False                True          False                  API  \n",
       "99         False                True          False                  API  \n",
       "\n",
       "[100 rows x 20 columns]"
      ]
     },
     "execution_count": 42,
     "metadata": {},
     "output_type": "execute_result"
    }
   ],
   "source": [
    "df_gaza_israel_final"
   ]
  },
  {
   "cell_type": "code",
   "execution_count": 43,
   "metadata": {},
   "outputs": [
    {
     "name": "stdout",
     "output_type": "stream",
     "text": [
      "None values in column 'Image_Path': 0\n",
      "NaN values in column 'Image_Path': 35\n",
      "None values in column 'Image_Path': 0\n",
      "NaN values in column 'Image_Path': 113\n"
     ]
    }
   ],
   "source": [
    "# Convert None values to NaN in the Image_Path column to be consistent with all other NaN values in other columsn of df\n",
    "df_gaza_israel_final[\"Image_Path\"] = df_gaza_israel_final[\"Image_Path\"].replace({None: np.nan})\n",
    "\n",
    "# Verify it worked\n",
    "print(\"None values in column 'Image_Path':\", (df_gaza_israel_final[\"Image_Path\"] == None).sum().sum())\n",
    "print(\"NaN values in column 'Image_Path':\", df_gaza_israel_final[\"Image_Path\"].isnull().sum().sum())\n",
    "\n",
    "## Check that no other column contains None values\n",
    "print(\"None values in column 'Image_Path':\", (df_gaza_israel_final == None).sum().sum())\n",
    "print(\"NaN values in column 'Image_Path':\", df_gaza_israel_final.isnull().sum().sum())"
   ]
  },
  {
   "cell_type": "code",
   "execution_count": 45,
   "metadata": {},
   "outputs": [],
   "source": [
    "## Save final df as csv \n",
    "\n",
    "os.getcwd()\n",
    "\n",
    "df_gaza_israel_final.to_csv(\"../gaza_israel/Combined_dataset/gaza_israel_dataset_combined_010724_300425_final.csv\")"
   ]
  },
  {
   "cell_type": "markdown",
   "metadata": {},
   "source": [
    "#### 2) Ukraine-Russia Dataset (Date of Scraping: 08.07.2025)\n"
   ]
  },
  {
   "cell_type": "code",
   "execution_count": 30,
   "metadata": {},
   "outputs": [
    {
     "name": "stdout",
     "output_type": "stream",
     "text": [
      "79\n",
      "id                            int64\n",
      "Website                      object\n",
      "Article_URL                  object\n",
      "Headline                     object\n",
      "Claim_Date                   object\n",
      "Review_Date                  object\n",
      "Query/Keyword                object\n",
      "Label_Website                object\n",
      "Image_URL                    object\n",
      "Original_Claim_Website       object\n",
      "Original_Claim_Only          object\n",
      "Context/Label_Explanation    object\n",
      "Text_Only_Claim                bool\n",
      "Normal_Image                   bool\n",
      "AI_Generated_Image             bool\n",
      "Altered_Image                  bool\n",
      "Data_Collection_Type         object\n",
      "Label                        object\n",
      "Claim                        object\n",
      "dtype: object\n"
     ]
    },
    {
     "data": {
      "text/html": [
       "<div>\n",
       "<style scoped>\n",
       "    .dataframe tbody tr th:only-of-type {\n",
       "        vertical-align: middle;\n",
       "    }\n",
       "\n",
       "    .dataframe tbody tr th {\n",
       "        vertical-align: top;\n",
       "    }\n",
       "\n",
       "    .dataframe thead th {\n",
       "        text-align: right;\n",
       "    }\n",
       "</style>\n",
       "<table border=\"1\" class=\"dataframe\">\n",
       "  <thead>\n",
       "    <tr style=\"text-align: right;\">\n",
       "      <th></th>\n",
       "      <th>id</th>\n",
       "      <th>Website</th>\n",
       "      <th>Article_URL</th>\n",
       "      <th>Headline</th>\n",
       "      <th>Claim_Date</th>\n",
       "      <th>Review_Date</th>\n",
       "      <th>Query/Keyword</th>\n",
       "      <th>Label_Website</th>\n",
       "      <th>Image_URL</th>\n",
       "      <th>Original_Claim_Website</th>\n",
       "      <th>Original_Claim_Only</th>\n",
       "      <th>Context/Label_Explanation</th>\n",
       "      <th>Text_Only_Claim</th>\n",
       "      <th>Normal_Image</th>\n",
       "      <th>AI_Generated_Image</th>\n",
       "      <th>Altered_Image</th>\n",
       "      <th>Data_Collection_Type</th>\n",
       "      <th>Label</th>\n",
       "      <th>Claim</th>\n",
       "    </tr>\n",
       "  </thead>\n",
       "  <tbody>\n",
       "    <tr>\n",
       "      <th>0</th>\n",
       "      <td>0</td>\n",
       "      <td>AFP Factcheck</td>\n",
       "      <td>https://factcheck.afp.com/doc.afp.com.372Y6CV</td>\n",
       "      <td>Fake newspaper cover on Ukrainian soldiers in ...</td>\n",
       "      <td>2025-03-15 00:00:00</td>\n",
       "      <td>2025-03-19 00:00:00</td>\n",
       "      <td>\"War in Ukraine\"</td>\n",
       "      <td>altered</td>\n",
       "      <td>https://web.archive.org/web/20250708170622/htt...</td>\n",
       "      <td>\"The Kursk expedition was a disaster and a com...</td>\n",
       "      <td>\"70,000 Ukrainian soldiers in the Kursk region...</td>\n",
       "      <td>But the supposed Hull Daily Mail headline blas...</td>\n",
       "      <td>False</td>\n",
       "      <td>False</td>\n",
       "      <td>False</td>\n",
       "      <td>True</td>\n",
       "      <td>Manual</td>\n",
       "      <td>FALSE</td>\n",
       "      <td>This image shows a screenshot of an authentic ...</td>\n",
       "    </tr>\n",
       "    <tr>\n",
       "      <th>1</th>\n",
       "      <td>1</td>\n",
       "      <td>AFP Factcheck</td>\n",
       "      <td>https://factcheck.afp.com/doc.afp.com.36YR9KZ</td>\n",
       "      <td>No, Zelensky hasn't bought Eagle's Nest, it is...</td>\n",
       "      <td>2025-02-18 00:00:00</td>\n",
       "      <td>2025-02-27 00:00:00</td>\n",
       "      <td>\"War in Ukraine\"</td>\n",
       "      <td>FALSE</td>\n",
       "      <td>NaN</td>\n",
       "      <td>According to the latest claims, Zelensky alleg...</td>\n",
       "      <td>According to the latest claims, Zelensky alleg...</td>\n",
       "      <td>The Eagle's Nest is in the property of the sta...</td>\n",
       "      <td>True</td>\n",
       "      <td>False</td>\n",
       "      <td>False</td>\n",
       "      <td>False</td>\n",
       "      <td>Manual</td>\n",
       "      <td>FALSE</td>\n",
       "      <td>Ukrainian President Volodymyr Zelenskyy purcha...</td>\n",
       "    </tr>\n",
       "    <tr>\n",
       "      <th>2</th>\n",
       "      <td>2</td>\n",
       "      <td>AFP Factcheck</td>\n",
       "      <td>https://factcheck.afp.com/doc.afp.com.36YC3DG</td>\n",
       "      <td>Claims that Ukraine banned Truth Social are false</td>\n",
       "      <td>2025-02-20 00:00:00</td>\n",
       "      <td>2025-02-21 00:00:00</td>\n",
       "      <td>\"War in Ukraine\"</td>\n",
       "      <td>FALSE</td>\n",
       "      <td>NaN</td>\n",
       "      <td>\"BREAKING: Zelensky blocks access to President...</td>\n",
       "      <td>\"BREAKING: Zelensky blocks access to President...</td>\n",
       "      <td>A spokesperson for Trump Media and Technology ...</td>\n",
       "      <td>True</td>\n",
       "      <td>False</td>\n",
       "      <td>False</td>\n",
       "      <td>False</td>\n",
       "      <td>Manual</td>\n",
       "      <td>FALSE</td>\n",
       "      <td>In February 2025 Ukrainian President Volodymyr...</td>\n",
       "    </tr>\n",
       "    <tr>\n",
       "      <th>3</th>\n",
       "      <td>3</td>\n",
       "      <td>AFP Factcheck</td>\n",
       "      <td>https://factcheck.afp.com/doc.afp.com.36P98ZW</td>\n",
       "      <td>Fake 'apocalypse' cover of The Economist circu...</td>\n",
       "      <td>2024-11-18 00:00:00</td>\n",
       "      <td>2024-12-03 00:00:00</td>\n",
       "      <td>\"War in Ukraine\"</td>\n",
       "      <td>FALSE</td>\n",
       "      <td>https://web.archive.org/web/20250708170927/htt...</td>\n",
       "      <td>\"APOCALYPSE: Allowing missile strikes deep int...</td>\n",
       "      <td>\"APOCALYPSE: Allowing missile strikes deep int...</td>\n",
       "      <td>However, The Economist does list Telegram amon...</td>\n",
       "      <td>False</td>\n",
       "      <td>False</td>\n",
       "      <td>False</td>\n",
       "      <td>True</td>\n",
       "      <td>Manual</td>\n",
       "      <td>FALSE</td>\n",
       "      <td>This image shows a screenshot of an authentic ...</td>\n",
       "    </tr>\n",
       "    <tr>\n",
       "      <th>4</th>\n",
       "      <td>4</td>\n",
       "      <td>AFP Factcheck</td>\n",
       "      <td>https://factcheck.afp.com/doc.afp.com.36MM6QY</td>\n",
       "      <td>Old photo misrepresented as coffins of 'Britis...</td>\n",
       "      <td>2024-11-03 00:00:00</td>\n",
       "      <td>2024-11-27 00:00:00</td>\n",
       "      <td>\"War in Ukraine\"</td>\n",
       "      <td>FALSE</td>\n",
       "      <td>https://web.archive.org/web/20250708171047/htt...</td>\n",
       "      <td>\"Recently, 18 members of the British special f...</td>\n",
       "      <td>\"18 British Special Forces were killed in Ukra...</td>\n",
       "      <td>A reverse image search and keyword searches on...</td>\n",
       "      <td>False</td>\n",
       "      <td>True</td>\n",
       "      <td>False</td>\n",
       "      <td>False</td>\n",
       "      <td>Manual</td>\n",
       "      <td>FALSE</td>\n",
       "      <td>This image shows the coffins of 18 British Spe...</td>\n",
       "    </tr>\n",
       "  </tbody>\n",
       "</table>\n",
       "</div>"
      ],
      "text/plain": [
       "   id        Website                                    Article_URL  \\\n",
       "0   0  AFP Factcheck  https://factcheck.afp.com/doc.afp.com.372Y6CV   \n",
       "1   1  AFP Factcheck  https://factcheck.afp.com/doc.afp.com.36YR9KZ   \n",
       "2   2  AFP Factcheck  https://factcheck.afp.com/doc.afp.com.36YC3DG   \n",
       "3   3  AFP Factcheck  https://factcheck.afp.com/doc.afp.com.36P98ZW   \n",
       "4   4  AFP Factcheck  https://factcheck.afp.com/doc.afp.com.36MM6QY   \n",
       "\n",
       "                                            Headline           Claim_Date  \\\n",
       "0  Fake newspaper cover on Ukrainian soldiers in ...  2025-03-15 00:00:00   \n",
       "1  No, Zelensky hasn't bought Eagle's Nest, it is...  2025-02-18 00:00:00   \n",
       "2  Claims that Ukraine banned Truth Social are false  2025-02-20 00:00:00   \n",
       "3  Fake 'apocalypse' cover of The Economist circu...  2024-11-18 00:00:00   \n",
       "4  Old photo misrepresented as coffins of 'Britis...  2024-11-03 00:00:00   \n",
       "\n",
       "           Review_Date     Query/Keyword Label_Website  \\\n",
       "0  2025-03-19 00:00:00  \"War in Ukraine\"       altered   \n",
       "1  2025-02-27 00:00:00  \"War in Ukraine\"         FALSE   \n",
       "2  2025-02-21 00:00:00  \"War in Ukraine\"         FALSE   \n",
       "3  2024-12-03 00:00:00  \"War in Ukraine\"         FALSE   \n",
       "4  2024-11-27 00:00:00  \"War in Ukraine\"         FALSE   \n",
       "\n",
       "                                           Image_URL  \\\n",
       "0  https://web.archive.org/web/20250708170622/htt...   \n",
       "1                                                NaN   \n",
       "2                                                NaN   \n",
       "3  https://web.archive.org/web/20250708170927/htt...   \n",
       "4  https://web.archive.org/web/20250708171047/htt...   \n",
       "\n",
       "                              Original_Claim_Website  \\\n",
       "0  \"The Kursk expedition was a disaster and a com...   \n",
       "1  According to the latest claims, Zelensky alleg...   \n",
       "2  \"BREAKING: Zelensky blocks access to President...   \n",
       "3  \"APOCALYPSE: Allowing missile strikes deep int...   \n",
       "4  \"Recently, 18 members of the British special f...   \n",
       "\n",
       "                                 Original_Claim_Only  \\\n",
       "0  \"70,000 Ukrainian soldiers in the Kursk region...   \n",
       "1  According to the latest claims, Zelensky alleg...   \n",
       "2  \"BREAKING: Zelensky blocks access to President...   \n",
       "3  \"APOCALYPSE: Allowing missile strikes deep int...   \n",
       "4  \"18 British Special Forces were killed in Ukra...   \n",
       "\n",
       "                           Context/Label_Explanation  Text_Only_Claim  \\\n",
       "0  But the supposed Hull Daily Mail headline blas...            False   \n",
       "1  The Eagle's Nest is in the property of the sta...             True   \n",
       "2  A spokesperson for Trump Media and Technology ...             True   \n",
       "3  However, The Economist does list Telegram amon...            False   \n",
       "4  A reverse image search and keyword searches on...            False   \n",
       "\n",
       "   Normal_Image  AI_Generated_Image  Altered_Image Data_Collection_Type  \\\n",
       "0         False               False           True               Manual   \n",
       "1         False               False          False               Manual   \n",
       "2         False               False          False               Manual   \n",
       "3         False               False           True               Manual   \n",
       "4          True               False          False               Manual   \n",
       "\n",
       "   Label                                              Claim  \n",
       "0  FALSE  This image shows a screenshot of an authentic ...  \n",
       "1  FALSE  Ukrainian President Volodymyr Zelenskyy purcha...  \n",
       "2  FALSE  In February 2025 Ukrainian President Volodymyr...  \n",
       "3  FALSE  This image shows a screenshot of an authentic ...  \n",
       "4  FALSE  This image shows the coffins of 18 British Spe...  "
      ]
     },
     "execution_count": 30,
     "metadata": {},
     "output_type": "execute_result"
    }
   ],
   "source": [
    "## import Gaza-Israel dataset (after claim reformulation) (Checked URL's validity: 08.07.2025)\n",
    "\n",
    "df_ukraine_russia = pd.read_csv(\"../ukraine_russia/Combined_dataset/ukraine_russia_dataset_combined_010724_300425_after_claim_reformulation.csv\", sep=';', header=0, index_col = 0)\n",
    "print(len(df_ukraine_russia))\n",
    "print(df_ukraine_russia.dtypes)\n",
    "df_ukraine_russia.head()"
   ]
  },
  {
   "cell_type": "code",
   "execution_count": 31,
   "metadata": {},
   "outputs": [
    {
     "name": "stdout",
     "output_type": "stream",
     "text": [
      "Label\n",
      "FALSE         53\n",
      "Misleading    15\n",
      "TRUE           9\n",
      "NEI            2\n",
      "Name: count, dtype: int64\n",
      "Label\n",
      "False         53\n",
      "Misleading    15\n",
      "True           9\n",
      "NEI            2\n",
      "Name: count, dtype: int64\n"
     ]
    }
   ],
   "source": [
    "# check if \"Label\" is in big letters\n",
    "print(df_ukraine_russia[\"Label\"].value_counts() )\n",
    "\n",
    "## Rename \"FALSE\" into \"False\" and \"TRUE\" into \"True\" \n",
    "\n",
    "df_ukraine_russia[\"Label\"] = df_ukraine_russia[\"Label\"].replace({'FALSE': 'False', 'TRUE': 'True'})\n",
    "\n",
    "## Check label letters again\n",
    "\n",
    "print(df_ukraine_russia[\"Label\"].value_counts()) ##worked\n",
    "\n",
    "\n"
   ]
  },
  {
   "cell_type": "code",
   "execution_count": 32,
   "metadata": {},
   "outputs": [
    {
     "name": "stdout",
     "output_type": "stream",
     "text": [
      "Amount of Claims with Images: 26\n",
      "Amount of Claims without Images: 53\n",
      "\n",
      " Text_Only_Claim\n",
      "True     53\n",
      "False    26\n",
      "Name: count, dtype: int64\n",
      "\n",
      " Normal_Image\n",
      "False    62\n",
      "True     17\n",
      "Name: count, dtype: int64\n",
      "\n",
      " AI_Generated_Image\n",
      "False    79\n",
      "Name: count, dtype: int64\n",
      "\n",
      " Altered_Image\n",
      "False    70\n",
      "True      9\n",
      "Name: count, dtype: int64\n"
     ]
    }
   ],
   "source": [
    "# How many claims with images? Amount of images and image_URLs should be the same\n",
    "\n",
    "## Check 1: Image_URL column \n",
    "\n",
    "image_url_non_nan_count = df_ukraine_russia[\"Image_URL\"].notna().sum()\n",
    "print(f\"Amount of Claims with Images: {image_url_non_nan_count}\")\n",
    "\n",
    "\n",
    "image_url_nan_count = df_ukraine_russia[\"Image_URL\"].isna().sum()\n",
    "print(f\"Amount of Claims without Images: {image_url_nan_count}\")\n",
    "\n",
    "\n",
    "## Check 2: Text_Only_Claim column\n",
    "\n",
    "print(\"\\n\", df_ukraine_russia[\"Text_Only_Claim\"].value_counts())\n",
    "\n",
    "## Check 3: Image columns \n",
    "\n",
    "print(\"\\n\",df_ukraine_russia[\"Normal_Image\"].value_counts())\n",
    "print(\"\\n\",df_ukraine_russia[\"AI_Generated_Image\"].value_counts())\n",
    "print(\"\\n\",df_ukraine_russia[\"Altered_Image\"].value_counts())\n",
    "\n",
    "\n",
    "\n"
   ]
  },
  {
   "cell_type": "code",
   "execution_count": 58,
   "metadata": {},
   "outputs": [
    {
     "name": "stdout",
     "output_type": "stream",
     "text": [
      "Found 26 claims with iamge URLs out of 79 claims\n"
     ]
    },
    {
     "name": "stderr",
     "output_type": "stream",
     "text": [
      "Scraping ukraine_russia images:   0%|          | 0/26 [00:00<?, ?it/s]"
     ]
    },
    {
     "name": "stdout",
     "output_type": "stream",
     "text": [
      "Image 0 already exists in all formats. Skipping.\n"
     ]
    },
    {
     "name": "stderr",
     "output_type": "stream",
     "text": [
      "Scraping ukraine_russia images:   4%|▍         | 1/26 [00:05<02:05,  5.01s/it]"
     ]
    },
    {
     "name": "stdout",
     "output_type": "stream",
     "text": [
      "Image 3 already exists in all formats. Skipping.\n"
     ]
    },
    {
     "name": "stderr",
     "output_type": "stream",
     "text": [
      "Scraping ukraine_russia images:   8%|▊         | 2/26 [00:10<02:00,  5.00s/it]"
     ]
    },
    {
     "name": "stdout",
     "output_type": "stream",
     "text": [
      "Image 4 already exists in all formats. Skipping.\n"
     ]
    },
    {
     "name": "stderr",
     "output_type": "stream",
     "text": [
      "Scraping ukraine_russia images:  12%|█▏        | 3/26 [00:15<01:55,  5.01s/it]"
     ]
    },
    {
     "name": "stdout",
     "output_type": "stream",
     "text": [
      "Image 5 already exists in all formats. Skipping.\n"
     ]
    },
    {
     "name": "stderr",
     "output_type": "stream",
     "text": [
      "Scraping ukraine_russia images:  15%|█▌        | 4/26 [00:20<01:50,  5.01s/it]"
     ]
    },
    {
     "name": "stdout",
     "output_type": "stream",
     "text": [
      "Image 6 already exists in all formats. Skipping.\n"
     ]
    },
    {
     "name": "stderr",
     "output_type": "stream",
     "text": [
      "Scraping ukraine_russia images:  19%|█▉        | 5/26 [00:25<01:45,  5.01s/it]"
     ]
    },
    {
     "name": "stdout",
     "output_type": "stream",
     "text": [
      "Image 8 already exists in all formats. Skipping.\n"
     ]
    },
    {
     "name": "stderr",
     "output_type": "stream",
     "text": [
      "Scraping ukraine_russia images:  23%|██▎       | 6/26 [00:30<01:40,  5.01s/it]"
     ]
    },
    {
     "name": "stdout",
     "output_type": "stream",
     "text": [
      "Image 9 already exists in all formats. Skipping.\n"
     ]
    },
    {
     "name": "stderr",
     "output_type": "stream",
     "text": [
      "Scraping ukraine_russia images:  27%|██▋       | 7/26 [00:35<01:35,  5.01s/it]"
     ]
    },
    {
     "name": "stdout",
     "output_type": "stream",
     "text": [
      "Image 10 already exists in all formats. Skipping.\n"
     ]
    },
    {
     "name": "stderr",
     "output_type": "stream",
     "text": [
      "Scraping ukraine_russia images:  31%|███       | 8/26 [00:40<01:30,  5.01s/it]"
     ]
    },
    {
     "name": "stdout",
     "output_type": "stream",
     "text": [
      "Image 12 already exists in all formats. Skipping.\n"
     ]
    },
    {
     "name": "stderr",
     "output_type": "stream",
     "text": [
      "Scraping ukraine_russia images:  35%|███▍      | 9/26 [00:45<01:25,  5.01s/it]"
     ]
    },
    {
     "name": "stdout",
     "output_type": "stream",
     "text": [
      "Image 13 already exists in all formats. Skipping.\n"
     ]
    },
    {
     "name": "stderr",
     "output_type": "stream",
     "text": [
      "Scraping ukraine_russia images:  38%|███▊      | 10/26 [00:50<01:20,  5.01s/it]"
     ]
    },
    {
     "name": "stdout",
     "output_type": "stream",
     "text": [
      "Image 14 already exists in all formats. Skipping.\n"
     ]
    },
    {
     "name": "stderr",
     "output_type": "stream",
     "text": [
      "Scraping ukraine_russia images:  42%|████▏     | 11/26 [00:55<01:15,  5.01s/it]"
     ]
    },
    {
     "name": "stdout",
     "output_type": "stream",
     "text": [
      "Image 22 already exists in all formats. Skipping.\n"
     ]
    },
    {
     "name": "stderr",
     "output_type": "stream",
     "text": [
      "Scraping ukraine_russia images:  46%|████▌     | 12/26 [01:00<01:10,  5.01s/it]"
     ]
    },
    {
     "name": "stdout",
     "output_type": "stream",
     "text": [
      "Image 33 already exists in all formats. Skipping.\n"
     ]
    },
    {
     "name": "stderr",
     "output_type": "stream",
     "text": [
      "Scraping ukraine_russia images:  50%|█████     | 13/26 [01:05<01:05,  5.01s/it]"
     ]
    },
    {
     "name": "stdout",
     "output_type": "stream",
     "text": [
      "Image 47 already exists in all formats. Skipping.\n"
     ]
    },
    {
     "name": "stderr",
     "output_type": "stream",
     "text": [
      "Scraping ukraine_russia images:  54%|█████▍    | 14/26 [01:10<01:00,  5.01s/it]"
     ]
    },
    {
     "name": "stdout",
     "output_type": "stream",
     "text": [
      "Image 48 already exists in all formats. Skipping.\n"
     ]
    },
    {
     "name": "stderr",
     "output_type": "stream",
     "text": [
      "Scraping ukraine_russia images:  58%|█████▊    | 15/26 [01:15<00:55,  5.01s/it]"
     ]
    },
    {
     "name": "stdout",
     "output_type": "stream",
     "text": [
      "Image 49 already exists in all formats. Skipping.\n"
     ]
    },
    {
     "name": "stderr",
     "output_type": "stream",
     "text": [
      "Scraping ukraine_russia images:  62%|██████▏   | 16/26 [01:20<00:50,  5.01s/it]"
     ]
    },
    {
     "name": "stdout",
     "output_type": "stream",
     "text": [
      "Image 56 already exists in all formats. Skipping.\n"
     ]
    },
    {
     "name": "stderr",
     "output_type": "stream",
     "text": [
      "Scraping ukraine_russia images:  65%|██████▌   | 17/26 [01:25<00:45,  5.01s/it]"
     ]
    },
    {
     "name": "stdout",
     "output_type": "stream",
     "text": [
      "Image 59 already exists in all formats. Skipping.\n"
     ]
    },
    {
     "name": "stderr",
     "output_type": "stream",
     "text": [
      "Scraping ukraine_russia images:  69%|██████▉   | 18/26 [01:30<00:40,  5.01s/it]"
     ]
    },
    {
     "name": "stdout",
     "output_type": "stream",
     "text": [
      "Image 60 already exists in all formats. Skipping.\n"
     ]
    },
    {
     "name": "stderr",
     "output_type": "stream",
     "text": [
      "Scraping ukraine_russia images:  73%|███████▎  | 19/26 [01:35<00:35,  5.01s/it]"
     ]
    },
    {
     "name": "stdout",
     "output_type": "stream",
     "text": [
      "Image 62 already exists in all formats. Skipping.\n"
     ]
    },
    {
     "name": "stderr",
     "output_type": "stream",
     "text": [
      "Scraping ukraine_russia images:  77%|███████▋  | 20/26 [01:40<00:30,  5.01s/it]/var/folders/yf/8jt3z6xx21z0rv6lrj7sdr800000gn/T/ipykernel_14050/3041291311.py:52: DeprecationWarning: Using 'method_whitelist' with Retry is deprecated and will be removed in v2.0. Use 'allowed_methods' instead\n",
      "  retry_strategy = Retry(\n",
      "/Library/Frameworks/Python.framework/Versions/3.12/lib/python3.12/site-packages/urllib3/connectionpool.py:1064: InsecureRequestWarning: Unverified HTTPS request is being made to host 'web.archive.org'. Adding certificate verification is strongly advised. See: https://urllib3.readthedocs.io/en/1.26.x/advanced-usage.html#ssl-warnings\n",
      "  warnings.warn(\n"
     ]
    },
    {
     "name": "stdout",
     "output_type": "stream",
     "text": [
      "Successfully saved 69 in jpg format.\n"
     ]
    },
    {
     "name": "stderr",
     "output_type": "stream",
     "text": [
      "Scraping ukraine_russia images:  81%|████████  | 21/26 [01:47<00:29,  5.81s/it]/Library/Frameworks/Python.framework/Versions/3.12/lib/python3.12/site-packages/urllib3/connectionpool.py:1064: InsecureRequestWarning: Unverified HTTPS request is being made to host 'web.archive.org'. Adding certificate verification is strongly advised. See: https://urllib3.readthedocs.io/en/1.26.x/advanced-usage.html#ssl-warnings\n",
      "  warnings.warn(\n"
     ]
    },
    {
     "name": "stdout",
     "output_type": "stream",
     "text": [
      "Successfully saved 73 in jpg format.\n"
     ]
    },
    {
     "name": "stderr",
     "output_type": "stream",
     "text": [
      "Scraping ukraine_russia images:  85%|████████▍ | 22/26 [01:54<00:24,  6.01s/it]"
     ]
    },
    {
     "name": "stdout",
     "output_type": "stream",
     "text": [
      "Image 74 already exists in all formats. Skipping.\n"
     ]
    },
    {
     "name": "stderr",
     "output_type": "stream",
     "text": [
      "Scraping ukraine_russia images:  88%|████████▊ | 23/26 [01:59<00:17,  5.71s/it]"
     ]
    },
    {
     "name": "stdout",
     "output_type": "stream",
     "text": [
      "Image 75 already exists in all formats. Skipping.\n"
     ]
    },
    {
     "name": "stderr",
     "output_type": "stream",
     "text": [
      "Scraping ukraine_russia images:  92%|█████████▏| 24/26 [02:04<00:11,  5.50s/it]"
     ]
    },
    {
     "name": "stdout",
     "output_type": "stream",
     "text": [
      "Image 77 already exists in all formats. Skipping.\n"
     ]
    },
    {
     "name": "stderr",
     "output_type": "stream",
     "text": [
      "Scraping ukraine_russia images:  96%|█████████▌| 25/26 [02:09<00:05,  5.35s/it]"
     ]
    },
    {
     "name": "stdout",
     "output_type": "stream",
     "text": [
      "Image 78 already exists in all formats. Skipping.\n"
     ]
    },
    {
     "name": "stderr",
     "output_type": "stream",
     "text": [
      "Scraping ukraine_russia images: 100%|██████████| 26/26 [02:14<00:00,  5.17s/it]\n"
     ]
    }
   ],
   "source": [
    "## Scrape the images (use function defined above in Gaza-Israel dataset part)\n",
    "\n",
    "df_ukraine_russia_with_image_paths = scrape_images(df=df_ukraine_russia, base_folder=\"images\", topic = \"ukraine_russia\")"
   ]
  },
  {
   "cell_type": "code",
   "execution_count": 59,
   "metadata": {},
   "outputs": [
    {
     "name": "stdout",
     "output_type": "stream",
     "text": [
      "53\n",
      "Images with paths: 26\n",
      "Images with URLs: 26\n",
      "Failed scrapes: 0\n"
     ]
    }
   ],
   "source": [
    "#check new df with image path\n",
    "\n",
    "df_ukraine_russia_with_image_paths.head()\n",
    "\n",
    "\n",
    "## check that all images were successfully scraped \n",
    "\n",
    "print(df_ukraine_russia_with_image_paths[\"Image_Path\"].isna().sum()) \n",
    "\n",
    "\n",
    "# Quick verification\n",
    "print(f\"Images with paths: {df_ukraine_russia_with_image_paths['Image_Path'].notna().sum()}\")\n",
    "print(f\"Images with URLs: {df_ukraine_russia_with_image_paths['Image_URL'].notna().sum()}\")\n",
    "\n",
    "# Check if any paths are missing\n",
    "missing_images = df_ukraine_russia_with_image_paths[\n",
    "    (df_ukraine_russia_with_image_paths['Image_URL'].notna()) & \n",
    "    (df_ukraine_russia_with_image_paths['Image_Path'].isna())\n",
    "]\n",
    "print(f\"Failed scrapes: {len(missing_images)}\")"
   ]
  },
  {
   "cell_type": "code",
   "execution_count": 60,
   "metadata": {},
   "outputs": [
    {
     "data": {
      "text/html": [
       "<div>\n",
       "<style scoped>\n",
       "    .dataframe tbody tr th:only-of-type {\n",
       "        vertical-align: middle;\n",
       "    }\n",
       "\n",
       "    .dataframe tbody tr th {\n",
       "        vertical-align: top;\n",
       "    }\n",
       "\n",
       "    .dataframe thead th {\n",
       "        text-align: right;\n",
       "    }\n",
       "</style>\n",
       "<table border=\"1\" class=\"dataframe\">\n",
       "  <thead>\n",
       "    <tr style=\"text-align: right;\">\n",
       "      <th></th>\n",
       "      <th>id</th>\n",
       "      <th>Website</th>\n",
       "      <th>Article_URL</th>\n",
       "      <th>Headline</th>\n",
       "      <th>Claim_Date</th>\n",
       "      <th>Review_Date</th>\n",
       "      <th>Query/Keyword</th>\n",
       "      <th>Original_Claim_Website</th>\n",
       "      <th>Original_Claim_Only</th>\n",
       "      <th>Claim</th>\n",
       "      <th>Image_URL</th>\n",
       "      <th>Image_Path</th>\n",
       "      <th>Label_Website</th>\n",
       "      <th>Label</th>\n",
       "      <th>Context/Label_Explanation</th>\n",
       "      <th>Text_Only_Claim</th>\n",
       "      <th>Normal_Image</th>\n",
       "      <th>AI_Generated_Image</th>\n",
       "      <th>Altered_Image</th>\n",
       "      <th>Data_Collection_Type</th>\n",
       "    </tr>\n",
       "  </thead>\n",
       "  <tbody>\n",
       "    <tr>\n",
       "      <th>0</th>\n",
       "      <td>0</td>\n",
       "      <td>AFP Factcheck</td>\n",
       "      <td>https://factcheck.afp.com/doc.afp.com.372Y6CV</td>\n",
       "      <td>Fake newspaper cover on Ukrainian soldiers in ...</td>\n",
       "      <td>2025-03-15 00:00:00</td>\n",
       "      <td>2025-03-19 00:00:00</td>\n",
       "      <td>\"War in Ukraine\"</td>\n",
       "      <td>\"The Kursk expedition was a disaster and a com...</td>\n",
       "      <td>\"70,000 Ukrainian soldiers in the Kursk region...</td>\n",
       "      <td>This image shows a screenshot of an authentic ...</td>\n",
       "      <td>https://web.archive.org/web/20250708170622/htt...</td>\n",
       "      <td>images/ukraine_russia/0.jpg</td>\n",
       "      <td>altered</td>\n",
       "      <td>False</td>\n",
       "      <td>But the supposed Hull Daily Mail headline blas...</td>\n",
       "      <td>False</td>\n",
       "      <td>False</td>\n",
       "      <td>False</td>\n",
       "      <td>True</td>\n",
       "      <td>Manual</td>\n",
       "    </tr>\n",
       "    <tr>\n",
       "      <th>1</th>\n",
       "      <td>1</td>\n",
       "      <td>AFP Factcheck</td>\n",
       "      <td>https://factcheck.afp.com/doc.afp.com.36YR9KZ</td>\n",
       "      <td>No, Zelensky hasn't bought Eagle's Nest, it is...</td>\n",
       "      <td>2025-02-18 00:00:00</td>\n",
       "      <td>2025-02-27 00:00:00</td>\n",
       "      <td>\"War in Ukraine\"</td>\n",
       "      <td>According to the latest claims, Zelensky alleg...</td>\n",
       "      <td>According to the latest claims, Zelensky alleg...</td>\n",
       "      <td>Ukrainian President Volodymyr Zelenskyy purcha...</td>\n",
       "      <td>NaN</td>\n",
       "      <td>None</td>\n",
       "      <td>FALSE</td>\n",
       "      <td>False</td>\n",
       "      <td>The Eagle's Nest is in the property of the sta...</td>\n",
       "      <td>True</td>\n",
       "      <td>False</td>\n",
       "      <td>False</td>\n",
       "      <td>False</td>\n",
       "      <td>Manual</td>\n",
       "    </tr>\n",
       "    <tr>\n",
       "      <th>2</th>\n",
       "      <td>2</td>\n",
       "      <td>AFP Factcheck</td>\n",
       "      <td>https://factcheck.afp.com/doc.afp.com.36YC3DG</td>\n",
       "      <td>Claims that Ukraine banned Truth Social are false</td>\n",
       "      <td>2025-02-20 00:00:00</td>\n",
       "      <td>2025-02-21 00:00:00</td>\n",
       "      <td>\"War in Ukraine\"</td>\n",
       "      <td>\"BREAKING: Zelensky blocks access to President...</td>\n",
       "      <td>\"BREAKING: Zelensky blocks access to President...</td>\n",
       "      <td>In February 2025 Ukrainian President Volodymyr...</td>\n",
       "      <td>NaN</td>\n",
       "      <td>None</td>\n",
       "      <td>FALSE</td>\n",
       "      <td>False</td>\n",
       "      <td>A spokesperson for Trump Media and Technology ...</td>\n",
       "      <td>True</td>\n",
       "      <td>False</td>\n",
       "      <td>False</td>\n",
       "      <td>False</td>\n",
       "      <td>Manual</td>\n",
       "    </tr>\n",
       "    <tr>\n",
       "      <th>3</th>\n",
       "      <td>3</td>\n",
       "      <td>AFP Factcheck</td>\n",
       "      <td>https://factcheck.afp.com/doc.afp.com.36P98ZW</td>\n",
       "      <td>Fake 'apocalypse' cover of The Economist circu...</td>\n",
       "      <td>2024-11-18 00:00:00</td>\n",
       "      <td>2024-12-03 00:00:00</td>\n",
       "      <td>\"War in Ukraine\"</td>\n",
       "      <td>\"APOCALYPSE: Allowing missile strikes deep int...</td>\n",
       "      <td>\"APOCALYPSE: Allowing missile strikes deep int...</td>\n",
       "      <td>This image shows a screenshot of an authentic ...</td>\n",
       "      <td>https://web.archive.org/web/20250708170927/htt...</td>\n",
       "      <td>images/ukraine_russia/3.jpg</td>\n",
       "      <td>FALSE</td>\n",
       "      <td>False</td>\n",
       "      <td>However, The Economist does list Telegram amon...</td>\n",
       "      <td>False</td>\n",
       "      <td>False</td>\n",
       "      <td>False</td>\n",
       "      <td>True</td>\n",
       "      <td>Manual</td>\n",
       "    </tr>\n",
       "    <tr>\n",
       "      <th>4</th>\n",
       "      <td>4</td>\n",
       "      <td>AFP Factcheck</td>\n",
       "      <td>https://factcheck.afp.com/doc.afp.com.36MM6QY</td>\n",
       "      <td>Old photo misrepresented as coffins of 'Britis...</td>\n",
       "      <td>2024-11-03 00:00:00</td>\n",
       "      <td>2024-11-27 00:00:00</td>\n",
       "      <td>\"War in Ukraine\"</td>\n",
       "      <td>\"Recently, 18 members of the British special f...</td>\n",
       "      <td>\"18 British Special Forces were killed in Ukra...</td>\n",
       "      <td>This image shows the coffins of 18 British Spe...</td>\n",
       "      <td>https://web.archive.org/web/20250708171047/htt...</td>\n",
       "      <td>images/ukraine_russia/4.jpg</td>\n",
       "      <td>FALSE</td>\n",
       "      <td>False</td>\n",
       "      <td>A reverse image search and keyword searches on...</td>\n",
       "      <td>False</td>\n",
       "      <td>True</td>\n",
       "      <td>False</td>\n",
       "      <td>False</td>\n",
       "      <td>Manual</td>\n",
       "    </tr>\n",
       "  </tbody>\n",
       "</table>\n",
       "</div>"
      ],
      "text/plain": [
       "   id        Website                                    Article_URL  \\\n",
       "0   0  AFP Factcheck  https://factcheck.afp.com/doc.afp.com.372Y6CV   \n",
       "1   1  AFP Factcheck  https://factcheck.afp.com/doc.afp.com.36YR9KZ   \n",
       "2   2  AFP Factcheck  https://factcheck.afp.com/doc.afp.com.36YC3DG   \n",
       "3   3  AFP Factcheck  https://factcheck.afp.com/doc.afp.com.36P98ZW   \n",
       "4   4  AFP Factcheck  https://factcheck.afp.com/doc.afp.com.36MM6QY   \n",
       "\n",
       "                                            Headline           Claim_Date  \\\n",
       "0  Fake newspaper cover on Ukrainian soldiers in ...  2025-03-15 00:00:00   \n",
       "1  No, Zelensky hasn't bought Eagle's Nest, it is...  2025-02-18 00:00:00   \n",
       "2  Claims that Ukraine banned Truth Social are false  2025-02-20 00:00:00   \n",
       "3  Fake 'apocalypse' cover of The Economist circu...  2024-11-18 00:00:00   \n",
       "4  Old photo misrepresented as coffins of 'Britis...  2024-11-03 00:00:00   \n",
       "\n",
       "           Review_Date     Query/Keyword  \\\n",
       "0  2025-03-19 00:00:00  \"War in Ukraine\"   \n",
       "1  2025-02-27 00:00:00  \"War in Ukraine\"   \n",
       "2  2025-02-21 00:00:00  \"War in Ukraine\"   \n",
       "3  2024-12-03 00:00:00  \"War in Ukraine\"   \n",
       "4  2024-11-27 00:00:00  \"War in Ukraine\"   \n",
       "\n",
       "                              Original_Claim_Website  \\\n",
       "0  \"The Kursk expedition was a disaster and a com...   \n",
       "1  According to the latest claims, Zelensky alleg...   \n",
       "2  \"BREAKING: Zelensky blocks access to President...   \n",
       "3  \"APOCALYPSE: Allowing missile strikes deep int...   \n",
       "4  \"Recently, 18 members of the British special f...   \n",
       "\n",
       "                                 Original_Claim_Only  \\\n",
       "0  \"70,000 Ukrainian soldiers in the Kursk region...   \n",
       "1  According to the latest claims, Zelensky alleg...   \n",
       "2  \"BREAKING: Zelensky blocks access to President...   \n",
       "3  \"APOCALYPSE: Allowing missile strikes deep int...   \n",
       "4  \"18 British Special Forces were killed in Ukra...   \n",
       "\n",
       "                                               Claim  \\\n",
       "0  This image shows a screenshot of an authentic ...   \n",
       "1  Ukrainian President Volodymyr Zelenskyy purcha...   \n",
       "2  In February 2025 Ukrainian President Volodymyr...   \n",
       "3  This image shows a screenshot of an authentic ...   \n",
       "4  This image shows the coffins of 18 British Spe...   \n",
       "\n",
       "                                           Image_URL  \\\n",
       "0  https://web.archive.org/web/20250708170622/htt...   \n",
       "1                                                NaN   \n",
       "2                                                NaN   \n",
       "3  https://web.archive.org/web/20250708170927/htt...   \n",
       "4  https://web.archive.org/web/20250708171047/htt...   \n",
       "\n",
       "                    Image_Path Label_Website  Label  \\\n",
       "0  images/ukraine_russia/0.jpg       altered  False   \n",
       "1                         None         FALSE  False   \n",
       "2                         None         FALSE  False   \n",
       "3  images/ukraine_russia/3.jpg         FALSE  False   \n",
       "4  images/ukraine_russia/4.jpg         FALSE  False   \n",
       "\n",
       "                           Context/Label_Explanation  Text_Only_Claim  \\\n",
       "0  But the supposed Hull Daily Mail headline blas...            False   \n",
       "1  The Eagle's Nest is in the property of the sta...             True   \n",
       "2  A spokesperson for Trump Media and Technology ...             True   \n",
       "3  However, The Economist does list Telegram amon...            False   \n",
       "4  A reverse image search and keyword searches on...            False   \n",
       "\n",
       "   Normal_Image  AI_Generated_Image  Altered_Image Data_Collection_Type  \n",
       "0         False               False           True               Manual  \n",
       "1         False               False          False               Manual  \n",
       "2         False               False          False               Manual  \n",
       "3         False               False           True               Manual  \n",
       "4          True               False          False               Manual  "
      ]
     },
     "execution_count": 60,
     "metadata": {},
     "output_type": "execute_result"
    }
   ],
   "source": [
    "### Reorder the columns before saving the final gaza_israel df\n",
    "\n",
    "df_ukraine_russia_with_image_paths.head()\n",
    "\n",
    "\n",
    "\n",
    "# reorder columns\n",
    "\n",
    "new_column_order = [\n",
    "    'id', \n",
    "    'Website', \n",
    "    'Article_URL', \n",
    "    'Headline', \n",
    "    'Claim_Date', \n",
    "    'Review_Date', \n",
    "    'Query/Keyword',\n",
    "    'Original_Claim_Website',  \n",
    "    'Original_Claim_Only',\n",
    "    'Claim',\n",
    "    'Image_URL',\n",
    "    'Image_Path',\n",
    "    'Label_Website',\n",
    "    'Label',\n",
    "    'Context/Label_Explanation', \n",
    "    'Text_Only_Claim', \n",
    "    'Normal_Image', \n",
    "    'AI_Generated_Image', \n",
    "    'Altered_Image',\n",
    "    'Data_Collection_Type'\n",
    "]\n",
    "\n",
    "df_ukraine_russia_final = df_ukraine_russia_with_image_paths[new_column_order]\n",
    "\n",
    "\n",
    "df_ukraine_russia_final.head()"
   ]
  },
  {
   "cell_type": "code",
   "execution_count": 61,
   "metadata": {},
   "outputs": [
    {
     "data": {
      "text/html": [
       "<div>\n",
       "<style scoped>\n",
       "    .dataframe tbody tr th:only-of-type {\n",
       "        vertical-align: middle;\n",
       "    }\n",
       "\n",
       "    .dataframe tbody tr th {\n",
       "        vertical-align: top;\n",
       "    }\n",
       "\n",
       "    .dataframe thead th {\n",
       "        text-align: right;\n",
       "    }\n",
       "</style>\n",
       "<table border=\"1\" class=\"dataframe\">\n",
       "  <thead>\n",
       "    <tr style=\"text-align: right;\">\n",
       "      <th></th>\n",
       "      <th>id</th>\n",
       "      <th>Website</th>\n",
       "      <th>Article_URL</th>\n",
       "      <th>Headline</th>\n",
       "      <th>Claim_Date</th>\n",
       "      <th>Review_Date</th>\n",
       "      <th>Query/Keyword</th>\n",
       "      <th>Original_Claim_Website</th>\n",
       "      <th>Original_Claim_Only</th>\n",
       "      <th>Claim</th>\n",
       "      <th>Image_URL</th>\n",
       "      <th>Image_Path</th>\n",
       "      <th>Label_Website</th>\n",
       "      <th>Label</th>\n",
       "      <th>Context/Label_Explanation</th>\n",
       "      <th>Text_Only_Claim</th>\n",
       "      <th>Normal_Image</th>\n",
       "      <th>AI_Generated_Image</th>\n",
       "      <th>Altered_Image</th>\n",
       "      <th>Data_Collection_Type</th>\n",
       "    </tr>\n",
       "  </thead>\n",
       "  <tbody>\n",
       "    <tr>\n",
       "      <th>0</th>\n",
       "      <td>0</td>\n",
       "      <td>AFP Factcheck</td>\n",
       "      <td>https://factcheck.afp.com/doc.afp.com.372Y6CV</td>\n",
       "      <td>Fake newspaper cover on Ukrainian soldiers in ...</td>\n",
       "      <td>2025-03-15 00:00:00</td>\n",
       "      <td>2025-03-19 00:00:00</td>\n",
       "      <td>\"War in Ukraine\"</td>\n",
       "      <td>\"The Kursk expedition was a disaster and a com...</td>\n",
       "      <td>\"70,000 Ukrainian soldiers in the Kursk region...</td>\n",
       "      <td>This image shows a screenshot of an authentic ...</td>\n",
       "      <td>https://web.archive.org/web/20250708170622/htt...</td>\n",
       "      <td>images/ukraine_russia/0.jpg</td>\n",
       "      <td>altered</td>\n",
       "      <td>False</td>\n",
       "      <td>But the supposed Hull Daily Mail headline blas...</td>\n",
       "      <td>False</td>\n",
       "      <td>False</td>\n",
       "      <td>False</td>\n",
       "      <td>True</td>\n",
       "      <td>Manual</td>\n",
       "    </tr>\n",
       "    <tr>\n",
       "      <th>1</th>\n",
       "      <td>1</td>\n",
       "      <td>AFP Factcheck</td>\n",
       "      <td>https://factcheck.afp.com/doc.afp.com.36YR9KZ</td>\n",
       "      <td>No, Zelensky hasn't bought Eagle's Nest, it is...</td>\n",
       "      <td>2025-02-18 00:00:00</td>\n",
       "      <td>2025-02-27 00:00:00</td>\n",
       "      <td>\"War in Ukraine\"</td>\n",
       "      <td>According to the latest claims, Zelensky alleg...</td>\n",
       "      <td>According to the latest claims, Zelensky alleg...</td>\n",
       "      <td>Ukrainian President Volodymyr Zelenskyy purcha...</td>\n",
       "      <td>NaN</td>\n",
       "      <td>None</td>\n",
       "      <td>FALSE</td>\n",
       "      <td>False</td>\n",
       "      <td>The Eagle's Nest is in the property of the sta...</td>\n",
       "      <td>True</td>\n",
       "      <td>False</td>\n",
       "      <td>False</td>\n",
       "      <td>False</td>\n",
       "      <td>Manual</td>\n",
       "    </tr>\n",
       "    <tr>\n",
       "      <th>2</th>\n",
       "      <td>2</td>\n",
       "      <td>AFP Factcheck</td>\n",
       "      <td>https://factcheck.afp.com/doc.afp.com.36YC3DG</td>\n",
       "      <td>Claims that Ukraine banned Truth Social are false</td>\n",
       "      <td>2025-02-20 00:00:00</td>\n",
       "      <td>2025-02-21 00:00:00</td>\n",
       "      <td>\"War in Ukraine\"</td>\n",
       "      <td>\"BREAKING: Zelensky blocks access to President...</td>\n",
       "      <td>\"BREAKING: Zelensky blocks access to President...</td>\n",
       "      <td>In February 2025 Ukrainian President Volodymyr...</td>\n",
       "      <td>NaN</td>\n",
       "      <td>None</td>\n",
       "      <td>FALSE</td>\n",
       "      <td>False</td>\n",
       "      <td>A spokesperson for Trump Media and Technology ...</td>\n",
       "      <td>True</td>\n",
       "      <td>False</td>\n",
       "      <td>False</td>\n",
       "      <td>False</td>\n",
       "      <td>Manual</td>\n",
       "    </tr>\n",
       "    <tr>\n",
       "      <th>3</th>\n",
       "      <td>3</td>\n",
       "      <td>AFP Factcheck</td>\n",
       "      <td>https://factcheck.afp.com/doc.afp.com.36P98ZW</td>\n",
       "      <td>Fake 'apocalypse' cover of The Economist circu...</td>\n",
       "      <td>2024-11-18 00:00:00</td>\n",
       "      <td>2024-12-03 00:00:00</td>\n",
       "      <td>\"War in Ukraine\"</td>\n",
       "      <td>\"APOCALYPSE: Allowing missile strikes deep int...</td>\n",
       "      <td>\"APOCALYPSE: Allowing missile strikes deep int...</td>\n",
       "      <td>This image shows a screenshot of an authentic ...</td>\n",
       "      <td>https://web.archive.org/web/20250708170927/htt...</td>\n",
       "      <td>images/ukraine_russia/3.jpg</td>\n",
       "      <td>FALSE</td>\n",
       "      <td>False</td>\n",
       "      <td>However, The Economist does list Telegram amon...</td>\n",
       "      <td>False</td>\n",
       "      <td>False</td>\n",
       "      <td>False</td>\n",
       "      <td>True</td>\n",
       "      <td>Manual</td>\n",
       "    </tr>\n",
       "    <tr>\n",
       "      <th>4</th>\n",
       "      <td>4</td>\n",
       "      <td>AFP Factcheck</td>\n",
       "      <td>https://factcheck.afp.com/doc.afp.com.36MM6QY</td>\n",
       "      <td>Old photo misrepresented as coffins of 'Britis...</td>\n",
       "      <td>2024-11-03 00:00:00</td>\n",
       "      <td>2024-11-27 00:00:00</td>\n",
       "      <td>\"War in Ukraine\"</td>\n",
       "      <td>\"Recently, 18 members of the British special f...</td>\n",
       "      <td>\"18 British Special Forces were killed in Ukra...</td>\n",
       "      <td>This image shows the coffins of 18 British Spe...</td>\n",
       "      <td>https://web.archive.org/web/20250708171047/htt...</td>\n",
       "      <td>images/ukraine_russia/4.jpg</td>\n",
       "      <td>FALSE</td>\n",
       "      <td>False</td>\n",
       "      <td>A reverse image search and keyword searches on...</td>\n",
       "      <td>False</td>\n",
       "      <td>True</td>\n",
       "      <td>False</td>\n",
       "      <td>False</td>\n",
       "      <td>Manual</td>\n",
       "    </tr>\n",
       "    <tr>\n",
       "      <th>...</th>\n",
       "      <td>...</td>\n",
       "      <td>...</td>\n",
       "      <td>...</td>\n",
       "      <td>...</td>\n",
       "      <td>...</td>\n",
       "      <td>...</td>\n",
       "      <td>...</td>\n",
       "      <td>...</td>\n",
       "      <td>...</td>\n",
       "      <td>...</td>\n",
       "      <td>...</td>\n",
       "      <td>...</td>\n",
       "      <td>...</td>\n",
       "      <td>...</td>\n",
       "      <td>...</td>\n",
       "      <td>...</td>\n",
       "      <td>...</td>\n",
       "      <td>...</td>\n",
       "      <td>...</td>\n",
       "      <td>...</td>\n",
       "    </tr>\n",
       "    <tr>\n",
       "      <th>74</th>\n",
       "      <td>74</td>\n",
       "      <td>checkyourfact.com</td>\n",
       "      <td>https://checkyourfact.com/2024/09/19/fact-chec...</td>\n",
       "      <td>FACT CHECK: Did A Small Nuclear Strike Hit Rus...</td>\n",
       "      <td>2024-09-18 00:00:00+00:00</td>\n",
       "      <td>2024-09-19 00:00:00+00:00</td>\n",
       "      <td>Russia</td>\n",
       "      <td>NaN</td>\n",
       "      <td>Posts shared on X claims that a North Atlantic...</td>\n",
       "      <td>This image shows a Russian ammunition depot in...</td>\n",
       "      <td>https://web.archive.org/web/20250313135839/htt...</td>\n",
       "      <td>images/ukraine_russia/74.jpg</td>\n",
       "      <td>FALSE</td>\n",
       "      <td>False</td>\n",
       "      <td>This claim is false. The attack was not from N...</td>\n",
       "      <td>False</td>\n",
       "      <td>True</td>\n",
       "      <td>False</td>\n",
       "      <td>False</td>\n",
       "      <td>API</td>\n",
       "    </tr>\n",
       "    <tr>\n",
       "      <th>75</th>\n",
       "      <td>75</td>\n",
       "      <td>misbar.com</td>\n",
       "      <td>https://www.misbar.com/en/factcheck/2024/08/26...</td>\n",
       "      <td>An Old Image of Ukrainians Circulated As Ameri...</td>\n",
       "      <td>2024-08-26 00:00:00+00:00</td>\n",
       "      <td>2024-08-26 00:00:00+00:00</td>\n",
       "      <td>Russia</td>\n",
       "      <td>NaN</td>\n",
       "      <td>American mercenaries exposed invading Russia's...</td>\n",
       "      <td>This image shows American mercenaries particip...</td>\n",
       "      <td>https://web.archive.org/web/20250708182706/htt...</td>\n",
       "      <td>images/ukraine_russia/75.jpg</td>\n",
       "      <td>misleading</td>\n",
       "      <td>Misleading</td>\n",
       "      <td>An Image Of A Ukrainian Solider Taken In Balak...</td>\n",
       "      <td>False</td>\n",
       "      <td>True</td>\n",
       "      <td>False</td>\n",
       "      <td>False</td>\n",
       "      <td>API</td>\n",
       "    </tr>\n",
       "    <tr>\n",
       "      <th>76</th>\n",
       "      <td>76</td>\n",
       "      <td>misbar.com</td>\n",
       "      <td>https://www.misbar.com/en/factcheck/2024/08/22...</td>\n",
       "      <td>Joe Biden Updates Nuclear Strategy, No Imminen...</td>\n",
       "      <td>2024-08-22 00:00:00+00:00</td>\n",
       "      <td>2024-08-22 00:00:00+00:00</td>\n",
       "      <td>Russia</td>\n",
       "      <td>NaN</td>\n",
       "      <td>Biden ordered U.S. forces to prepare for possi...</td>\n",
       "      <td>While serving as US President in 2024, Joe Bid...</td>\n",
       "      <td>NaN</td>\n",
       "      <td>None</td>\n",
       "      <td>excitement</td>\n",
       "      <td>True</td>\n",
       "      <td>New York Times' Article Misinterpreted The ar...</td>\n",
       "      <td>True</td>\n",
       "      <td>False</td>\n",
       "      <td>False</td>\n",
       "      <td>False</td>\n",
       "      <td>API</td>\n",
       "    </tr>\n",
       "    <tr>\n",
       "      <th>77</th>\n",
       "      <td>77</td>\n",
       "      <td>misbar.com</td>\n",
       "      <td>https://www.misbar.com/en/factcheck/2024/08/20...</td>\n",
       "      <td>Poland Marks Historic Victory Over the Red Arm...</td>\n",
       "      <td>2024-08-20 00:00:00+00:00</td>\n",
       "      <td>2024-08-20 00:00:00+00:00</td>\n",
       "      <td>Russia</td>\n",
       "      <td>NaN</td>\n",
       "      <td>POLAND The Army is preparing for war with Russ...</td>\n",
       "      <td>This image shows a military parade of Poland's...</td>\n",
       "      <td>https://web.archive.org/web/20250124154226/htt...</td>\n",
       "      <td>images/ukraine_russia/77.jpg</td>\n",
       "      <td>misleading</td>\n",
       "      <td>Misleading</td>\n",
       "      <td>Poland Celebrates Historic Red Army Defeat On ...</td>\n",
       "      <td>False</td>\n",
       "      <td>True</td>\n",
       "      <td>False</td>\n",
       "      <td>False</td>\n",
       "      <td>API</td>\n",
       "    </tr>\n",
       "    <tr>\n",
       "      <th>78</th>\n",
       "      <td>78</td>\n",
       "      <td>misbar.com</td>\n",
       "      <td>https://www.misbar.com/en/factcheck/2024/08/13...</td>\n",
       "      <td>Outdated Photo of Destroyed Ukrainian Tanks Re...</td>\n",
       "      <td>2024-08-13 00:00:00+00:00</td>\n",
       "      <td>2024-08-13 00:00:00+00:00</td>\n",
       "      <td>Russia</td>\n",
       "      <td>NaN</td>\n",
       "      <td>Russian Ministry of Defense: The total losses ...</td>\n",
       "      <td>This image shows destroyed Ukrainian tanks dur...</td>\n",
       "      <td>https://web.archive.org/web/20250708182345/htt...</td>\n",
       "      <td>images/ukraine_russia/78.jpg</td>\n",
       "      <td>misleading</td>\n",
       "      <td>Misleading</td>\n",
       "      <td>Outdated Photo Shows Ukrainian Tanks Destroyed...</td>\n",
       "      <td>False</td>\n",
       "      <td>True</td>\n",
       "      <td>False</td>\n",
       "      <td>False</td>\n",
       "      <td>API</td>\n",
       "    </tr>\n",
       "  </tbody>\n",
       "</table>\n",
       "<p>79 rows × 20 columns</p>\n",
       "</div>"
      ],
      "text/plain": [
       "    id            Website                                        Article_URL  \\\n",
       "0    0      AFP Factcheck      https://factcheck.afp.com/doc.afp.com.372Y6CV   \n",
       "1    1      AFP Factcheck      https://factcheck.afp.com/doc.afp.com.36YR9KZ   \n",
       "2    2      AFP Factcheck      https://factcheck.afp.com/doc.afp.com.36YC3DG   \n",
       "3    3      AFP Factcheck      https://factcheck.afp.com/doc.afp.com.36P98ZW   \n",
       "4    4      AFP Factcheck      https://factcheck.afp.com/doc.afp.com.36MM6QY   \n",
       "..  ..                ...                                                ...   \n",
       "74  74  checkyourfact.com  https://checkyourfact.com/2024/09/19/fact-chec...   \n",
       "75  75         misbar.com  https://www.misbar.com/en/factcheck/2024/08/26...   \n",
       "76  76         misbar.com  https://www.misbar.com/en/factcheck/2024/08/22...   \n",
       "77  77         misbar.com  https://www.misbar.com/en/factcheck/2024/08/20...   \n",
       "78  78         misbar.com  https://www.misbar.com/en/factcheck/2024/08/13...   \n",
       "\n",
       "                                             Headline  \\\n",
       "0   Fake newspaper cover on Ukrainian soldiers in ...   \n",
       "1   No, Zelensky hasn't bought Eagle's Nest, it is...   \n",
       "2   Claims that Ukraine banned Truth Social are false   \n",
       "3   Fake 'apocalypse' cover of The Economist circu...   \n",
       "4   Old photo misrepresented as coffins of 'Britis...   \n",
       "..                                                ...   \n",
       "74  FACT CHECK: Did A Small Nuclear Strike Hit Rus...   \n",
       "75  An Old Image of Ukrainians Circulated As Ameri...   \n",
       "76  Joe Biden Updates Nuclear Strategy, No Imminen...   \n",
       "77  Poland Marks Historic Victory Over the Red Arm...   \n",
       "78  Outdated Photo of Destroyed Ukrainian Tanks Re...   \n",
       "\n",
       "                   Claim_Date                Review_Date     Query/Keyword  \\\n",
       "0         2025-03-15 00:00:00        2025-03-19 00:00:00  \"War in Ukraine\"   \n",
       "1         2025-02-18 00:00:00        2025-02-27 00:00:00  \"War in Ukraine\"   \n",
       "2         2025-02-20 00:00:00        2025-02-21 00:00:00  \"War in Ukraine\"   \n",
       "3         2024-11-18 00:00:00        2024-12-03 00:00:00  \"War in Ukraine\"   \n",
       "4         2024-11-03 00:00:00        2024-11-27 00:00:00  \"War in Ukraine\"   \n",
       "..                        ...                        ...               ...   \n",
       "74  2024-09-18 00:00:00+00:00  2024-09-19 00:00:00+00:00            Russia   \n",
       "75  2024-08-26 00:00:00+00:00  2024-08-26 00:00:00+00:00            Russia   \n",
       "76  2024-08-22 00:00:00+00:00  2024-08-22 00:00:00+00:00            Russia   \n",
       "77  2024-08-20 00:00:00+00:00  2024-08-20 00:00:00+00:00            Russia   \n",
       "78  2024-08-13 00:00:00+00:00  2024-08-13 00:00:00+00:00            Russia   \n",
       "\n",
       "                               Original_Claim_Website  \\\n",
       "0   \"The Kursk expedition was a disaster and a com...   \n",
       "1   According to the latest claims, Zelensky alleg...   \n",
       "2   \"BREAKING: Zelensky blocks access to President...   \n",
       "3   \"APOCALYPSE: Allowing missile strikes deep int...   \n",
       "4   \"Recently, 18 members of the British special f...   \n",
       "..                                                ...   \n",
       "74                                                NaN   \n",
       "75                                                NaN   \n",
       "76                                                NaN   \n",
       "77                                                NaN   \n",
       "78                                                NaN   \n",
       "\n",
       "                                  Original_Claim_Only  \\\n",
       "0   \"70,000 Ukrainian soldiers in the Kursk region...   \n",
       "1   According to the latest claims, Zelensky alleg...   \n",
       "2   \"BREAKING: Zelensky blocks access to President...   \n",
       "3   \"APOCALYPSE: Allowing missile strikes deep int...   \n",
       "4   \"18 British Special Forces were killed in Ukra...   \n",
       "..                                                ...   \n",
       "74  Posts shared on X claims that a North Atlantic...   \n",
       "75  American mercenaries exposed invading Russia's...   \n",
       "76  Biden ordered U.S. forces to prepare for possi...   \n",
       "77  POLAND The Army is preparing for war with Russ...   \n",
       "78  Russian Ministry of Defense: The total losses ...   \n",
       "\n",
       "                                                Claim  \\\n",
       "0   This image shows a screenshot of an authentic ...   \n",
       "1   Ukrainian President Volodymyr Zelenskyy purcha...   \n",
       "2   In February 2025 Ukrainian President Volodymyr...   \n",
       "3   This image shows a screenshot of an authentic ...   \n",
       "4   This image shows the coffins of 18 British Spe...   \n",
       "..                                                ...   \n",
       "74  This image shows a Russian ammunition depot in...   \n",
       "75  This image shows American mercenaries particip...   \n",
       "76  While serving as US President in 2024, Joe Bid...   \n",
       "77  This image shows a military parade of Poland's...   \n",
       "78  This image shows destroyed Ukrainian tanks dur...   \n",
       "\n",
       "                                            Image_URL  \\\n",
       "0   https://web.archive.org/web/20250708170622/htt...   \n",
       "1                                                 NaN   \n",
       "2                                                 NaN   \n",
       "3   https://web.archive.org/web/20250708170927/htt...   \n",
       "4   https://web.archive.org/web/20250708171047/htt...   \n",
       "..                                                ...   \n",
       "74  https://web.archive.org/web/20250313135839/htt...   \n",
       "75  https://web.archive.org/web/20250708182706/htt...   \n",
       "76                                                NaN   \n",
       "77  https://web.archive.org/web/20250124154226/htt...   \n",
       "78  https://web.archive.org/web/20250708182345/htt...   \n",
       "\n",
       "                      Image_Path Label_Website       Label  \\\n",
       "0    images/ukraine_russia/0.jpg       altered       False   \n",
       "1                           None         FALSE       False   \n",
       "2                           None         FALSE       False   \n",
       "3    images/ukraine_russia/3.jpg         FALSE       False   \n",
       "4    images/ukraine_russia/4.jpg         FALSE       False   \n",
       "..                           ...           ...         ...   \n",
       "74  images/ukraine_russia/74.jpg         FALSE       False   \n",
       "75  images/ukraine_russia/75.jpg    misleading  Misleading   \n",
       "76                          None    excitement        True   \n",
       "77  images/ukraine_russia/77.jpg    misleading  Misleading   \n",
       "78  images/ukraine_russia/78.jpg    misleading  Misleading   \n",
       "\n",
       "                            Context/Label_Explanation  Text_Only_Claim  \\\n",
       "0   But the supposed Hull Daily Mail headline blas...            False   \n",
       "1   The Eagle's Nest is in the property of the sta...             True   \n",
       "2   A spokesperson for Trump Media and Technology ...             True   \n",
       "3   However, The Economist does list Telegram amon...            False   \n",
       "4   A reverse image search and keyword searches on...            False   \n",
       "..                                                ...              ...   \n",
       "74  This claim is false. The attack was not from N...            False   \n",
       "75  An Image Of A Ukrainian Solider Taken In Balak...            False   \n",
       "76   New York Times' Article Misinterpreted The ar...             True   \n",
       "77  Poland Celebrates Historic Red Army Defeat On ...            False   \n",
       "78  Outdated Photo Shows Ukrainian Tanks Destroyed...            False   \n",
       "\n",
       "    Normal_Image  AI_Generated_Image  Altered_Image Data_Collection_Type  \n",
       "0          False               False           True               Manual  \n",
       "1          False               False          False               Manual  \n",
       "2          False               False          False               Manual  \n",
       "3          False               False           True               Manual  \n",
       "4           True               False          False               Manual  \n",
       "..           ...                 ...            ...                  ...  \n",
       "74          True               False          False                  API  \n",
       "75          True               False          False                  API  \n",
       "76         False               False          False                  API  \n",
       "77          True               False          False                  API  \n",
       "78          True               False          False                  API  \n",
       "\n",
       "[79 rows x 20 columns]"
      ]
     },
     "execution_count": 61,
     "metadata": {},
     "output_type": "execute_result"
    }
   ],
   "source": [
    "df_ukraine_russia_final"
   ]
  },
  {
   "cell_type": "code",
   "execution_count": 62,
   "metadata": {},
   "outputs": [
    {
     "name": "stdout",
     "output_type": "stream",
     "text": [
      "None values in column 'Image_Path': 0\n",
      "NaN values in column 'Image_Path': 53\n",
      "None values in column 'Image_Path': 0\n",
      "NaN values in column 'Image_Path': 139\n"
     ]
    }
   ],
   "source": [
    "# Convert None values to NaN in the Image_Path column to be consistent with all other NaN values in other columsn of df\n",
    "df_ukraine_russia_final[\"Image_Path\"] = df_ukraine_russia_final[\"Image_Path\"].replace({None: np.nan})\n",
    "\n",
    "# Verify it worked\n",
    "print(\"None values in column 'Image_Path':\", (df_ukraine_russia_final[\"Image_Path\"] == None).sum().sum())\n",
    "print(\"NaN values in column 'Image_Path':\", df_ukraine_russia_final[\"Image_Path\"].isnull().sum().sum())\n",
    "\n",
    "## Check that no other column contains None values\n",
    "print(\"None values in column 'Image_Path':\", (df_ukraine_russia_final == None).sum().sum())\n",
    "print(\"NaN values in column 'Image_Path':\", df_ukraine_russia_final.isnull().sum().sum())"
   ]
  },
  {
   "cell_type": "code",
   "execution_count": 64,
   "metadata": {},
   "outputs": [],
   "source": [
    "## Save final df as csv \n",
    "\n",
    "os.getcwd()\n",
    "\n",
    "df_ukraine_russia_final.to_csv(\"../ukraine_russia/Combined_dataset/ukraine_russia_dataset_combined_010724_300425_final.csv\")"
   ]
  }
 ],
 "metadata": {
  "kernelspec": {
   "display_name": "Python 3",
   "language": "python",
   "name": "python3"
  },
  "language_info": {
   "codemirror_mode": {
    "name": "ipython",
    "version": 3
   },
   "file_extension": ".py",
   "mimetype": "text/x-python",
   "name": "python",
   "nbconvert_exporter": "python",
   "pygments_lexer": "ipython3",
   "version": "3.12.4"
  }
 },
 "nbformat": 4,
 "nbformat_minor": 2
}
